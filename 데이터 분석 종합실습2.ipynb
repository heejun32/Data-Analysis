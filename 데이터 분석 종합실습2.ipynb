{
 "cells": [
  {
   "cell_type": "markdown",
   "metadata": {},
   "source": [
    "## 문제 출처: https://github.com/DA4BAM/dataset"
   ]
  },
  {
   "cell_type": "markdown",
   "metadata": {},
   "source": [
    "# Mobile 고객 이탈 분석"
   ]
  },
  {
   "cell_type": "markdown",
   "metadata": {
    "id": "cdQaCT5I0IL_"
   },
   "source": [
    "* 회사는 약정기간이 끝난 고객이 번호이동(이탈)해 가는 문제를 해결하고자 합니다.\n",
    "* 그래서 여러분에게, 어떤 고객이 번호이동(이탈)해 가는지 데이터분석을 의뢰하였습니다.\n",
    "* 고객 이탈여부(CHURN)에 영향을 주는 요인을 찾아 봅시다."
   ]
  },
  {
   "cell_type": "markdown",
   "metadata": {
    "id": "0wuYJKZHjA3d"
   },
   "source": [
    "![](https://d18lkz4dllo6v2.cloudfront.net/cumulus_uploads/entry/23964/mobile%20phones.png)"
   ]
  },
  {
   "cell_type": "markdown",
   "metadata": {
    "id": "AHmt88Q5EVsj"
   },
   "source": [
    "## 0.환경설정"
   ]
  },
  {
   "cell_type": "markdown",
   "metadata": {
    "id": "KnzVh2LmkLDU"
   },
   "source": [
    "### 1) 라이브러리 로딩"
   ]
  },
  {
   "cell_type": "code",
   "execution_count": 1,
   "metadata": {
    "ExecuteTime": {
     "end_time": "2022-05-16T08:43:29.669784Z",
     "start_time": "2022-05-16T08:43:26.907092Z"
    },
    "id": "3rsQerEaELwI"
   },
   "outputs": [],
   "source": [
    "import pandas as pd\n",
    "import numpy as np\n",
    "import matplotlib.pyplot as plt\n",
    "import seaborn as sns\n",
    "from statsmodels.graphics.mosaicplot import mosaic\n",
    "from scipy import stats as spst\n",
    "import statsmodels.api as sm\n",
    "import warnings\n",
    "warnings.filterwarnings(action='ignore')"
   ]
  },
  {
   "cell_type": "markdown",
   "metadata": {
    "id": "5Qh5KYWokO_N"
   },
   "source": [
    "### 2) 데이터 로딩"
   ]
  },
  {
   "cell_type": "code",
   "execution_count": 2,
   "metadata": {
    "ExecuteTime": {
     "end_time": "2022-05-16T08:43:30.230931Z",
     "start_time": "2022-05-16T08:43:29.672767Z"
    },
    "id": "lM3HN6OwEL3d",
    "scrolled": true
   },
   "outputs": [
    {
     "data": {
      "text/html": [
       "<div>\n",
       "<style scoped>\n",
       "    .dataframe tbody tr th:only-of-type {\n",
       "        vertical-align: middle;\n",
       "    }\n",
       "\n",
       "    .dataframe tbody tr th {\n",
       "        vertical-align: top;\n",
       "    }\n",
       "\n",
       "    .dataframe thead th {\n",
       "        text-align: right;\n",
       "    }\n",
       "</style>\n",
       "<table border=\"1\" class=\"dataframe\">\n",
       "  <thead>\n",
       "    <tr style=\"text-align: right;\">\n",
       "      <th></th>\n",
       "      <th>COLLEGE</th>\n",
       "      <th>INCOME</th>\n",
       "      <th>OVERAGE</th>\n",
       "      <th>LEFTOVER</th>\n",
       "      <th>HOUSE</th>\n",
       "      <th>HANDSET_PRICE</th>\n",
       "      <th>AVERAGE_CALL_DURATION</th>\n",
       "      <th>REPORTED_SATISFACTION</th>\n",
       "      <th>CONSIDERING_CHANGE_OF_PLAN</th>\n",
       "      <th>CHURN</th>\n",
       "    </tr>\n",
       "  </thead>\n",
       "  <tbody>\n",
       "    <tr>\n",
       "      <th>0</th>\n",
       "      <td>1</td>\n",
       "      <td>47711</td>\n",
       "      <td>183</td>\n",
       "      <td>17</td>\n",
       "      <td>730589.0</td>\n",
       "      <td>192</td>\n",
       "      <td>5</td>\n",
       "      <td>unsat</td>\n",
       "      <td>considering</td>\n",
       "      <td>0</td>\n",
       "    </tr>\n",
       "    <tr>\n",
       "      <th>1</th>\n",
       "      <td>0</td>\n",
       "      <td>74132</td>\n",
       "      <td>191</td>\n",
       "      <td>43</td>\n",
       "      <td>535092.0</td>\n",
       "      <td>349</td>\n",
       "      <td>2</td>\n",
       "      <td>unsat</td>\n",
       "      <td>no</td>\n",
       "      <td>1</td>\n",
       "    </tr>\n",
       "    <tr>\n",
       "      <th>2</th>\n",
       "      <td>1</td>\n",
       "      <td>150419</td>\n",
       "      <td>0</td>\n",
       "      <td>14</td>\n",
       "      <td>204004.0</td>\n",
       "      <td>682</td>\n",
       "      <td>6</td>\n",
       "      <td>unsat</td>\n",
       "      <td>considering</td>\n",
       "      <td>0</td>\n",
       "    </tr>\n",
       "    <tr>\n",
       "      <th>3</th>\n",
       "      <td>0</td>\n",
       "      <td>159567</td>\n",
       "      <td>0</td>\n",
       "      <td>58</td>\n",
       "      <td>281969.0</td>\n",
       "      <td>634</td>\n",
       "      <td>1</td>\n",
       "      <td>very_unsat</td>\n",
       "      <td>never_thought</td>\n",
       "      <td>0</td>\n",
       "    </tr>\n",
       "    <tr>\n",
       "      <th>4</th>\n",
       "      <td>1</td>\n",
       "      <td>23392</td>\n",
       "      <td>0</td>\n",
       "      <td>0</td>\n",
       "      <td>216707.0</td>\n",
       "      <td>233</td>\n",
       "      <td>15</td>\n",
       "      <td>unsat</td>\n",
       "      <td>no</td>\n",
       "      <td>1</td>\n",
       "    </tr>\n",
       "  </tbody>\n",
       "</table>\n",
       "</div>"
      ],
      "text/plain": [
       "   COLLEGE  INCOME  OVERAGE  LEFTOVER     HOUSE  HANDSET_PRICE  \\\n",
       "0        1   47711      183        17  730589.0            192   \n",
       "1        0   74132      191        43  535092.0            349   \n",
       "2        1  150419        0        14  204004.0            682   \n",
       "3        0  159567        0        58  281969.0            634   \n",
       "4        1   23392        0         0  216707.0            233   \n",
       "\n",
       "   AVERAGE_CALL_DURATION REPORTED_SATISFACTION CONSIDERING_CHANGE_OF_PLAN  \\\n",
       "0                      5                 unsat                considering   \n",
       "1                      2                 unsat                         no   \n",
       "2                      6                 unsat                considering   \n",
       "3                      1            very_unsat              never_thought   \n",
       "4                     15                 unsat                         no   \n",
       "\n",
       "   CHURN  \n",
       "0      0  \n",
       "1      1  \n",
       "2      0  \n",
       "3      0  \n",
       "4      1  "
      ]
     },
     "execution_count": 2,
     "metadata": {},
     "output_type": "execute_result"
    }
   ],
   "source": [
    "# mobile data\n",
    "data_path = \"https://raw.githubusercontent.com/DA4BAM/dataset/master/mobile_NA2.csv\"\n",
    "mobile = pd.read_csv(data_path)\n",
    "mobile.drop(['id', 'REPORTED_USAGE_LEVEL','OVER_15MINS_CALLS_PER_MONTH'], axis = 1, inplace = True)\n",
    "mobile.head()"
   ]
  },
  {
   "cell_type": "markdown",
   "metadata": {
    "id": "JtiF310fjmJy"
   },
   "source": [
    "|변수 명|내용|구분|\n",
    "|\t----\t|\t----\t|\t----\t|\n",
    "|\tCOLLEGE\t|\t대학졸업 여부(1,0)\t|\t\t|\n",
    "|\tINCOME\t|\t연 수입액(달러)\t|\t\t|\n",
    "|\tOVERAGE\t|\t월 초과사용 시간(분)\t|\t\t|\n",
    "|\tLEFTOVER\t|\t월 사용 잔여시간(%)\t|\t\t|\n",
    "|\tHOUSE\t|\t집 가격(달러)\t|\t\t|\n",
    "|\tHANDSET_PRICE\t|\t핸드폰 가격(달러)\t|\t\t|\n",
    "|\tAVERAGE_CALL_DURATION\t|\t평균 통화시간(분)\t|\t\t|\n",
    "|\tREPORTED_SATISFACTION\t|\t만족도 설문('very_unsat', 'unsat', 'avg', 'sat', 'very_sat' )\t|\t\t|\n",
    "|\tCONSIDERING_CHANGE_OF_PLAN\t|\t변경 계획 설문('never_thought', 'no', 'perhaps', 'considering',   'actively_looking_into_it')\t|\t\t|\n",
    "|\t**CHURN**\t|\t이탈여부(1 : 이탈, 0 : 잔류)\t|\tLabel\t|\n"
   ]
  },
  {
   "cell_type": "markdown",
   "metadata": {
    "id": "bKimk8qVm8oC"
   },
   "source": [
    "----"
   ]
  },
  {
   "cell_type": "markdown",
   "metadata": {
    "id": "0bouXLxGkSSd"
   },
   "source": [
    "## 1.가설수립"
   ]
  },
  {
   "cell_type": "markdown",
   "metadata": {
    "id": "69Q5jPGu1JQ0"
   },
   "source": [
    "* 각 변수는 고객 이탈과 관련이 있을 것이다."
   ]
  },
  {
   "cell_type": "markdown",
   "metadata": {
    "id": "82xzJIZhnAaX"
   },
   "source": [
    "----"
   ]
  },
  {
   "cell_type": "markdown",
   "metadata": {
    "id": "1hYPpnplEedX"
   },
   "source": [
    "## 2.단변량 분석\n",
    "\n",
    "① 변수의 비즈니스 의미  \n",
    "\n",
    "② 숫자? 범주?  \n",
    "\n",
    "③ 전처리 사항\n",
    "   - NaN 존재 여부 및 조치 방안  \n",
    "   - 가변수화 대상여부  \n",
    "   \n",
    "④ 기초통계량\n",
    "\n",
    "⑤ 분포  \n",
    "\n",
    "⑥ 위 정보로부터 파악한 내용(비즈니스!) 정리  \n",
    "\n",
    "⑦ 추가 분석해볼 사항 도출"
   ]
  },
  {
   "cell_type": "markdown",
   "metadata": {
    "id": "BP8iBi7We3AI"
   },
   "source": [
    "### 1) COLLEGE"
   ]
  },
  {
   "cell_type": "markdown",
   "metadata": {
    "id": "NRIsridhK3el"
   },
   "source": [
    "1. 변수의 비즈니스 의미: 고객의 대학졸업 여부(1, 0)"
   ]
  },
  {
   "cell_type": "markdown",
   "metadata": {
    "id": "LdfsedUEEMP6"
   },
   "source": [
    "2. 범주형 데이터"
   ]
  },
  {
   "cell_type": "markdown",
   "metadata": {
    "id": "n53LBx0fEMMs"
   },
   "source": [
    "3. 전처리 사항:\n",
    "    * Null 값 없음  \n",
    "    * 가변수화 1, 0으로 되어 있음  \n",
    "    * 전처리 필요 없음"
   ]
  },
  {
   "cell_type": "code",
   "execution_count": 3,
   "metadata": {
    "ExecuteTime": {
     "end_time": "2022-05-16T08:43:30.246882Z",
     "start_time": "2022-05-16T08:43:30.232897Z"
    },
    "id": "M-dKqpwTEMJe"
   },
   "outputs": [
    {
     "name": "stdout",
     "output_type": "stream",
     "text": [
      "1    9049\n",
      "0    8951\n",
      "Name: COLLEGE, dtype: int64\n",
      "--------------------------------------------------\n",
      "1    0.502722\n",
      "0    0.497278\n",
      "Name: COLLEGE, dtype: float64\n"
     ]
    }
   ],
   "source": [
    "# 4. 기초 통계량\n",
    "print(mobile['COLLEGE'].value_counts())\n",
    "print('-'*50)\n",
    "print(mobile['COLLEGE'].value_counts()/len(mobile['COLLEGE']))"
   ]
  },
  {
   "cell_type": "code",
   "execution_count": 4,
   "metadata": {
    "ExecuteTime": {
     "end_time": "2022-05-16T08:43:30.482910Z",
     "start_time": "2022-05-16T08:43:30.250847Z"
    },
    "id": "-67MJSNHEMF6",
    "scrolled": false
   },
   "outputs": [
    {
     "data": {
      "image/png": "[encoded data removed]",
      "text/plain": [
       "<Figure size 432x288 with 2 Axes>"
      ]
     },
     "metadata": {
      "needs_background": "light"
     },
     "output_type": "display_data"
    }
   ],
   "source": [
    "# 5. 분포\n",
    "cnt = mobile['COLLEGE'].value_counts()\n",
    "\n",
    "plt.subplot(1,2,1)\n",
    "sns.barplot(x = cnt.index, y = cnt.values)\n",
    "\n",
    "plt.subplot(1,2,2)\n",
    "plt.pie(cnt.values, labels = cnt.index, autopct = '%.2f%%')\n",
    "plt.show()"
   ]
  },
  {
   "cell_type": "markdown",
   "metadata": {},
   "source": [
    "6. 위 정보로부터 파악한 내용(비즈니스!) 정리  \n",
    "    - 대학을 졸업한 이들이 전체 고객의 약 50%를 차지합니다.  \n",
    "    - 대학을 졸업하지 않은 이들은 전체 고객의 약 50%를 차지합니다.\n"
   ]
  },
  {
   "cell_type": "markdown",
   "metadata": {},
   "source": [
    "7. 추가 분석 내용\n",
    "    - 대학 졸업 여부만으로 고객의 이탈 여부를 확인할 수 없기 때문에 소득 및 월 초과사용 시간 및 월 사용 잔여시간 등과 연관하여 분석할 필요가 있습니다.\n"
   ]
  },
  {
   "cell_type": "markdown",
   "metadata": {
    "id": "cYkgwG47evaF"
   },
   "source": [
    "### 2) INCOME"
   ]
  },
  {
   "cell_type": "markdown",
   "metadata": {
    "id": "bUzXvik-Ka88"
   },
   "source": [
    "1. 변수의 비즈니스 의미: 연 수입액(달러)\n",
    "2. 숫자형 데이터\n",
    "3. 전처리 사항:\n",
    "    * Null 값 없음  \n",
    "    * 숫자형으로 가변수화 필요 없음. \n",
    "    * 따라서 전처리 필요 없음.\n"
   ]
  },
  {
   "cell_type": "code",
   "execution_count": 5,
   "metadata": {
    "ExecuteTime": {
     "end_time": "2022-05-16T08:43:30.974603Z",
     "start_time": "2022-05-16T08:43:30.484905Z"
    }
   },
   "outputs": [
    {
     "name": "stdout",
     "output_type": "stream",
     "text": [
      "count     18000.000000\n",
      "mean      80314.400278\n",
      "std       41703.420130\n",
      "min       20007.000000\n",
      "25%       42151.500000\n",
      "50%       75501.500000\n",
      "75%      116082.250000\n",
      "max      159983.000000\n",
      "Name: INCOME, dtype: float64\n"
     ]
    },
    {
     "data": {
      "image/png": "[encoded data removed]",
      "text/plain": [
       "<Figure size 1152x288 with 2 Axes>"
      ]
     },
     "metadata": {
      "needs_background": "light"
     },
     "output_type": "display_data"
    }
   ],
   "source": [
    "# 4. 기초 통계량\n",
    "print(mobile['INCOME'].describe())\n",
    "\n",
    "# 5. 분포\n",
    "plt.figure(figsize  = (16,4))\n",
    "plt.subplot(1,2,1)\n",
    "sns.histplot(data = mobile, x= 'INCOME', bins = 30)\n",
    "\n",
    "plt.subplot(1,2,2)\n",
    "sns.kdeplot(data = mobile, x = 'INCOME')\n",
    "\n",
    "plt.tight_layout()\n",
    "plt.show()"
   ]
  },
  {
   "cell_type": "markdown",
   "metadata": {
    "id": "-wJGhdutEPTS"
   },
   "source": [
    "6. 위 정보로부터 파악한 내용(비즈니스!) 정리  \n",
    "    - 소득의 중앙값은 약 75000달러입니다.\n",
    "    - 전체 소득 분포에서 2만달러에서 5만달러 사이의 고객이 많음을 알 수 있습니다.\n",
    "7. 추가 분석 내용\n",
    "    - 휴대폰 요금은 한달 단위로 지불하기 때문에 이들의 월 소득을 파악할 필요가 있습니다.\n"
   ]
  },
  {
   "cell_type": "markdown",
   "metadata": {
    "id": "UNgJNBEIfB1p"
   },
   "source": [
    "### 3) HANDSET_PRICE"
   ]
  },
  {
   "cell_type": "markdown",
   "metadata": {
    "id": "7FsVbJ_mKi15"
   },
   "source": [
    "1. 변수의 비즈니스 의미: 핸드폰 가격(달러)\n",
    "2. 숫자형 데이터\n",
    "3. 전처리 사항:\n",
    "    * Null 값 없음  \n",
    "    * 숫자형으로 가변수화 필요 없음. \n",
    "    * 따라서 전처리 필요 없음\n"
   ]
  },
  {
   "cell_type": "code",
   "execution_count": 6,
   "metadata": {
    "ExecuteTime": {
     "end_time": "2022-05-16T08:43:31.465290Z",
     "start_time": "2022-05-16T08:43:30.976564Z"
    }
   },
   "outputs": [
    {
     "name": "stdout",
     "output_type": "stream",
     "text": [
      "count    18000.000000\n",
      "mean       390.096667\n",
      "std        214.239639\n",
      "min        130.000000\n",
      "25%        219.000000\n",
      "50%        326.000000\n",
      "75%        536.000000\n",
      "max        899.000000\n",
      "Name: HANDSET_PRICE, dtype: float64\n"
     ]
    },
    {
     "data": {
      "image/png": "[encoded data removed]",
      "text/plain": [
       "<Figure size 1152x288 with 2 Axes>"
      ]
     },
     "metadata": {
      "needs_background": "light"
     },
     "output_type": "display_data"
    }
   ],
   "source": [
    "# 4. 기초 통계량\n",
    "print(mobile['HANDSET_PRICE'].describe())\n",
    "\n",
    "# 5. 분포\n",
    "plt.figure(figsize  = (16,4))\n",
    "plt.subplot(1,2,1)\n",
    "sns.histplot(data = mobile, x= 'HANDSET_PRICE', bins = 30)\n",
    "\n",
    "plt.subplot(1,2,2)\n",
    "sns.kdeplot(data = mobile, x = 'HANDSET_PRICE')\n",
    "\n",
    "plt.tight_layout()\n",
    "plt.show()\n"
   ]
  },
  {
   "cell_type": "markdown",
   "metadata": {
    "id": "5bpbg_e7ERk3"
   },
   "source": [
    "6. 위 정보로부터 파악한 내용(비즈니스!) 정리  \n",
    "    - 휴대폰 가격의 최저는 130달러, 최고는 약 900달러입니다.  \n",
    "    - 휴대폰 시장에서 중앙값 가격은 약 330달러로 알 수 있습니다.  \n",
    "    - 휴대폰 가격은 주로 150달러에서 400달러 밑으로 많이 형성되어 있습니다.\n",
    "7. 추가 분석 내용\n",
    "    - 휴대폰이 정가로 많이 팔리는지, 아니면 다양한 프로모션을 통해 좀 더 저렴한 가격에 팔리고 있는지 실제 시장에서 형성된 가격을 알 필요가 있습니다.\n"
   ]
  },
  {
   "cell_type": "markdown",
   "metadata": {
    "id": "e3QPEq8efB1r"
   },
   "source": [
    "### 4) AVERAGE_CALL_DURATION"
   ]
  },
  {
   "cell_type": "markdown",
   "metadata": {
    "id": "H4Oa5BnzKme9"
   },
   "source": [
    "1. 변수의 비즈니스 의미: 평균 통화시간(분)\n",
    "2. 숫자형 데이터\n",
    "3. 전처리 사항:\n",
    "    * Null 값 없음  \n",
    "    * 숫자형으로 가변수화 필요 없음. \n",
    "    * 따라서 전처리 필요 없음"
   ]
  },
  {
   "cell_type": "code",
   "execution_count": 7,
   "metadata": {
    "ExecuteTime": {
     "end_time": "2022-05-16T08:43:31.922445Z",
     "start_time": "2022-05-16T08:43:31.467248Z"
    },
    "id": "EOpUeelrERbJ"
   },
   "outputs": [
    {
     "name": "stdout",
     "output_type": "stream",
     "text": [
      "count    18000.000000\n",
      "mean         5.990944\n",
      "std          4.398894\n",
      "min          1.000000\n",
      "25%          2.000000\n",
      "50%          5.000000\n",
      "75%         10.000000\n",
      "max         15.000000\n",
      "Name: AVERAGE_CALL_DURATION, dtype: float64\n"
     ]
    },
    {
     "data": {
      "image/png": "[encoded data removed]",
      "text/plain": [
       "<Figure size 1152x288 with 2 Axes>"
      ]
     },
     "metadata": {
      "needs_background": "light"
     },
     "output_type": "display_data"
    }
   ],
   "source": [
    "# 4. 기초 통계량\n",
    "print(mobile['AVERAGE_CALL_DURATION'].describe())\n",
    "\n",
    "# 5. 분포\n",
    "plt.figure(figsize  = (16,4))\n",
    "plt.subplot(1,2,1)\n",
    "sns.histplot(data = mobile, x= 'AVERAGE_CALL_DURATION', bins = 30)\n",
    "\n",
    "plt.subplot(1,2,2)\n",
    "sns.kdeplot(data = mobile, x = 'AVERAGE_CALL_DURATION')\n",
    "\n",
    "plt.tight_layout()\n",
    "plt.show()"
   ]
  },
  {
   "cell_type": "markdown",
   "metadata": {
    "id": "r6Aiu2rkEUc-"
   },
   "source": [
    "6. 위 정보로부터 파악한 내용(비즈니스!) 정리  \n",
    "    - 평균 통화시간은 약 6분임을 알 수 있습니다.  \n",
    "    - 고객중 약 3/4의 고객이 통화 시간이 10분 이하임을 알 수 있습니다.\n",
    "7. 추가 분석 내용\n",
    "    - 고객의 통화 사용의 주 목적이 무엇인지 파악할 필요가 있습니다. 최근 SNS 서비스가 발전하면서 전화보다는 메세지를 통해 연락하고 있기 때문에 통화는 대부분 특별한 상황(Ex. 급한 연락, 연락한지 오래된 지인 등)일 겁니다. 그 이외에 높은 통화시간을 보이는 이들은 영업 직군에서 일하고 있는 고객일 가능성이 높습니다.\n"
   ]
  },
  {
   "cell_type": "markdown",
   "metadata": {
    "id": "E5rB6CiofI_d"
   },
   "source": [
    "### 5) REPORTED_SATISFACTION"
   ]
  },
  {
   "cell_type": "markdown",
   "metadata": {
    "id": "BoOX0VRsKped"
   },
   "source": [
    "1. 변수의 비즈니스 의미: 만족도 설문('very_unsat', 'unsat', 'avg', 'sat', 'very_sat' )\t\n",
    "2. 범주형 데이터\n",
    "3. 전처리 사항:\n",
    "    * Null 값 존재  \n",
    "    * 범주형으로 5개의 카테고리를 가변수화 할 필요가 있음.\n",
    "    * 따라서 Null값 삭제와 가변수화 전처리 필요"
   ]
  },
  {
   "cell_type": "code",
   "execution_count": 8,
   "metadata": {
    "ExecuteTime": {
     "end_time": "2022-05-16T08:43:32.158736Z",
     "start_time": "2022-05-16T08:43:31.924445Z"
    }
   },
   "outputs": [
    {
     "name": "stdout",
     "output_type": "stream",
     "text": [
      "very_unsat    7072\n",
      "very_sat      4562\n",
      "unsat         3590\n",
      "avg           1806\n",
      "sat            932\n",
      "Name: REPORTED_SATISFACTION, dtype: int64\n",
      "--------------------------------------------------\n",
      "very_unsat    0.392889\n",
      "very_sat      0.253444\n",
      "unsat         0.199444\n",
      "avg           0.100333\n",
      "sat           0.051778\n",
      "Name: REPORTED_SATISFACTION, dtype: float64\n"
     ]
    },
    {
     "data": {
      "image/png": "[encoded data removed]",
      "text/plain": [
       "<Figure size 1152x288 with 2 Axes>"
      ]
     },
     "metadata": {
      "needs_background": "light"
     },
     "output_type": "display_data"
    }
   ],
   "source": [
    "# 4. 기초 통계량\n",
    "print(mobile['REPORTED_SATISFACTION'].value_counts())\n",
    "print('-'*50)\n",
    "print(mobile['REPORTED_SATISFACTION'].value_counts()/len(mobile['REPORTED_SATISFACTION']))\n",
    "\n",
    "# 5. 분포\n",
    "cnt = mobile['REPORTED_SATISFACTION'].value_counts()\n",
    "\n",
    "plt.figure(figsize  = (16,4))\n",
    "plt.subplot(1,2,1)\n",
    "sns.barplot(x = cnt.index, y = cnt.values)\n",
    "\n",
    "plt.subplot(1,2,2)\n",
    "plt.pie(cnt.values, labels = cnt.index, autopct = '%.2f%%')\n",
    "\n",
    "plt.tight_layout()\n",
    "plt.show()\n"
   ]
  },
  {
   "cell_type": "markdown",
   "metadata": {
    "id": "UbgPbP4YEWp0"
   },
   "source": [
    "6. 위 정보로부터 파악한 내용(비즈니스!) 정리  \n",
    "    - 매우 불만족, 불만족이 전체 서비스 만족도의 약 60%를 차지합니다.  \n",
    "    - 반면 만족, 매우만족이 전체 서비스 만족도의 약 30%만을 차지합니다.\n",
    "7. 추가 분석 내용\n",
    "    - 서비스 만족에 대해 평균이라고 대답한 이들 역시 조금의 불만이라도 가지게 된다면 이탈 고객이 될 위험이 있습니다. 이러면 전체 고객 중 70%가 이탈 위험이 있기 때문에 어떤 서비스가 구체적으로 불만족스러운지 확인할 필요가 있습니다.\n"
   ]
  },
  {
   "cell_type": "markdown",
   "metadata": {
    "id": "Es3rqfErEb4L"
   },
   "source": [
    "### 6) CONSIDERING_CHANGE_OF_PLAN"
   ]
  },
  {
   "cell_type": "markdown",
   "metadata": {
    "id": "CokPil3nLCc7"
   },
   "source": [
    "1. 변수의 비즈니스 의미: 변경 계획 설문('never_thought', 'no', 'perhaps', 'considering', 'actively_looking_into_it')\n",
    "2. 범주형 데이터\n",
    "3. 전처리 사항:\n",
    "    * Null 값 없음  \n",
    "    * 범주형으로 가변수화 필요. \n"
   ]
  },
  {
   "cell_type": "code",
   "execution_count": 9,
   "metadata": {
    "ExecuteTime": {
     "end_time": "2022-05-16T08:43:32.426364Z",
     "start_time": "2022-05-16T08:43:32.160730Z"
    },
    "id": "Gr_p2-bKEY8c"
   },
   "outputs": [
    {
     "name": "stdout",
     "output_type": "stream",
     "text": [
      "considering                 7141\n",
      "actively_looking_into_it    4453\n",
      "no                          3644\n",
      "never_thought               1804\n",
      "perhaps                      958\n",
      "Name: CONSIDERING_CHANGE_OF_PLAN, dtype: int64\n",
      "--------------------------------------------------\n",
      "considering                 0.396722\n",
      "actively_looking_into_it    0.247389\n",
      "no                          0.202444\n",
      "never_thought               0.100222\n",
      "perhaps                     0.053222\n",
      "Name: CONSIDERING_CHANGE_OF_PLAN, dtype: float64\n"
     ]
    },
    {
     "data": {
      "image/png": "[encoded data removed]",
      "text/plain": [
       "<Figure size 1152x288 with 2 Axes>"
      ]
     },
     "metadata": {
      "needs_background": "light"
     },
     "output_type": "display_data"
    }
   ],
   "source": [
    "# 4. 기초 통계량\n",
    "print(mobile['CONSIDERING_CHANGE_OF_PLAN'].value_counts())\n",
    "print('-'*50)\n",
    "print(mobile['CONSIDERING_CHANGE_OF_PLAN'].value_counts()/len(mobile['CONSIDERING_CHANGE_OF_PLAN']))\n",
    "\n",
    "# 5. 분포\n",
    "cnt = mobile['CONSIDERING_CHANGE_OF_PLAN'].value_counts()\n",
    "\n",
    "plt.figure(figsize  = (16,4))\n",
    "plt.subplot(1,2,1)\n",
    "sns.barplot(x = cnt.index, y = cnt.values)\n",
    "\n",
    "plt.subplot(1,2,2)\n",
    "plt.pie(cnt.values, labels = cnt.index, autopct = '%.2f%%')\n",
    "plt.tight_layout()\n",
    "plt.show()\n"
   ]
  },
  {
   "cell_type": "markdown",
   "metadata": {
    "id": "onnE3DVmEY5C"
   },
   "source": [
    "6. 위 정보로부터 파악한 내용(비즈니스!) 정리  \n",
    "    - 통신사를 옮기는 걸 아마도, 고려중, 활발히 찾는 이들이 전체 고객의 약 70%입니다.  \n",
    "    - 통신사 이동을 고려하지 않는 이들은 전체 고객의 약 30% 입니다.\n",
    "7. 추가 분석 내용\n",
    "    - 통신사의 이탈 여부에는 많은 요소가 있겠지만 현재 경쟁사의 서비스 프로모션이 진행되고 있는지도 알 필요가 있습니다. 만약 그렇다면 우리도 그에 맞는 프로모션으로 대응해 고객 이탈을 막야아 합니다.\n"
   ]
  },
  {
   "cell_type": "markdown",
   "metadata": {
    "id": "78iry0XpLCc0"
   },
   "source": [
    "### 7) CHURN(target)"
   ]
  },
  {
   "cell_type": "markdown",
   "metadata": {
    "id": "XJ0YIFJrEb4R"
   },
   "source": [
    "1. 변수의 비즈니스 의미: 이탈여부(1 : 이탈, 0 : 잔류)\n",
    "2. 범주형 데이터\n",
    "3. 전처리 사항:\n",
    "    * Null 값 없음  \n",
    "    * 범주형이지만 가변수화 되어 있음\n",
    "    * 따라서 전처리 필요 없음\n"
   ]
  },
  {
   "cell_type": "code",
   "execution_count": 10,
   "metadata": {
    "ExecuteTime": {
     "end_time": "2022-05-16T08:43:32.631993Z",
     "start_time": "2022-05-16T08:43:32.432350Z"
    },
    "id": "626cRSYjEb4R"
   },
   "outputs": [
    {
     "name": "stdout",
     "output_type": "stream",
     "text": [
      "0    9131\n",
      "1    8869\n",
      "Name: CHURN, dtype: int64\n",
      "--------------------------------------------------\n",
      "0    0.507278\n",
      "1    0.492722\n",
      "Name: CHURN, dtype: float64\n"
     ]
    },
    {
     "data": {
      "image/png": "[encoded data removed]",
      "text/plain": [
       "<Figure size 1152x288 with 2 Axes>"
      ]
     },
     "metadata": {
      "needs_background": "light"
     },
     "output_type": "display_data"
    }
   ],
   "source": [
    "# 4. 기초 통계량\n",
    "print(mobile['CHURN'].value_counts())\n",
    "print('-'*50)\n",
    "print(mobile['CHURN'].value_counts()/len(mobile['CHURN']))\n",
    "\n",
    "# 5. 분포\n",
    "cnt = mobile['CHURN'].value_counts()\n",
    "plt.figure(figsize  = (16,4))\n",
    "plt.subplot(1,2,1)\n",
    "sns.barplot(x = cnt.index, y = cnt.values)\n",
    "\n",
    "plt.subplot(1,2,2)\n",
    "plt.pie(cnt.values, labels = cnt.index, autopct = '%.2f%%')\n",
    "plt.tight_layout()\n",
    "plt.show()\n"
   ]
  },
  {
   "cell_type": "markdown",
   "metadata": {
    "id": "vXTWiazJEb4R"
   },
   "source": [
    "6. 위 정보로부터 파악한 내용(비즈니스!) 정리  \n",
    "    - 전체 고객중 약 50%가 이탈 했습니다.  \n",
    "7. 추가 분석 내용\n",
    "    - 이제 지금까지 수집한 다양한 변수들과 이탈과의 관계를 파악해야 합니다. 현재 고객 이탈은 약 50%로 매우 높은 수준입니다.\n",
    " "
   ]
  },
  {
   "cell_type": "markdown",
   "metadata": {
    "id": "ZghJJ7yLEpDA"
   },
   "source": [
    "## 3.이변량 분석 \n",
    "* 자료의 종류에 맞게 X --> Y 에 대해서 그래프(시각화)와 가설검정(수치화)를 수행하고 결과를 평가합니다.\n",
    "* 가설검정시 다음의 항목을 참조하여 수행합니다.\n",
    "    * 유의수준 : 5%\n",
    "    * 숫자 --> 숫자 : 상관분석\n",
    "    * 범주 --> 범주 : 카이제곱검정\n",
    "    * 범주 --> 숫자 : t검정, 분산분석\n",
    "    * 숫자 --> 범주 : 로지스틱 회귀모형을 통해, 회귀계수의 P.value로 검정을 수행합니다.\n"
   ]
  },
  {
   "cell_type": "code",
   "execution_count": 11,
   "metadata": {
    "ExecuteTime": {
     "end_time": "2022-05-16T08:43:32.647807Z",
     "start_time": "2022-05-16T08:43:32.634809Z"
    },
    "id": "qiWKeotjGkLp"
   },
   "outputs": [],
   "source": [
    "target = 'CHURN'"
   ]
  },
  {
   "cell_type": "markdown",
   "metadata": {
    "id": "fap08wfEMqtY"
   },
   "source": [
    "### (1) 범주형 Feature --> CHURN\n",
    "* 모든 범주형 Feature에 대해서 Y와 비교하여 차트를 그리고 수치화 하시오.  \n",
    "    ① 교차표(pd.crosstab())  \n",
    "    ② 시각화( Stacked Bar, Mosaic)  \n",
    "    ③ 가설검정(카이제곱검정)\n",
    "* 각 feature 별로 관계의 정도를 3가지로 정리해봅시다. "
   ]
  },
  {
   "cell_type": "markdown",
   "metadata": {
    "id": "Dh2UW7_S-yoq"
   },
   "source": [
    "#### 1) COLLEGE --> CHURN"
   ]
  },
  {
   "cell_type": "code",
   "execution_count": 12,
   "metadata": {
    "ExecuteTime": {
     "end_time": "2022-05-16T08:43:32.838486Z",
     "start_time": "2022-05-16T08:43:32.649767Z"
    },
    "id": "EWXtZEr_X0ok"
   },
   "outputs": [
    {
     "name": "stdout",
     "output_type": "stream",
     "text": [
      "교차표\n",
      " CHURN           0         1\n",
      "COLLEGE                    \n",
      "0        0.515697  0.484303\n",
      "1        0.498950  0.501050\n",
      "----------------------------------------------------------------------------------------------------\n"
     ]
    },
    {
     "data": {
      "text/plain": [
       "<Figure size 1152x288 with 0 Axes>"
      ]
     },
     "metadata": {},
     "output_type": "display_data"
    },
    {
     "data": {
      "image/png": "[encoded data removed]",
      "text/plain": [
       "<Figure size 432x288 with 1 Axes>"
      ]
     },
     "metadata": {
      "needs_background": "light"
     },
     "output_type": "display_data"
    }
   ],
   "source": [
    "feature = 'COLLEGE'\n",
    "\n",
    "# 교차표 생성\n",
    "table = pd.crosstab(mobile[feature], mobile[target], normalize = 'index')\n",
    "\n",
    "# 1. 교차표 출력\n",
    "print('교차표\\n', table)\n",
    "print('-' * 100)\n",
    "\n",
    "# 2. 시각화(\n",
    "plt.figure(figsize = (16, 4))\n",
    "table.plot.bar(stacked=True)\n",
    "plt.axhline(1 - mobile[target].mean(), color = 'r')\n",
    "plt.show()"
   ]
  },
  {
   "cell_type": "code",
   "execution_count": 13,
   "metadata": {
    "ExecuteTime": {
     "end_time": "2022-05-16T08:43:32.996017Z",
     "start_time": "2022-05-16T08:43:32.841431Z"
    }
   },
   "outputs": [
    {
     "data": {
      "image/png": "[encoded data removed]",
      "text/plain": [
       "<Figure size 432x288 with 3 Axes>"
      ]
     },
     "metadata": {
      "needs_background": "light"
     },
     "output_type": "display_data"
    }
   ],
   "source": [
    "mosaic(mobile, [feature, target])\n",
    "plt.axhline(1 - mobile[target].mean(), color = 'r')\n",
    "plt.show()"
   ]
  },
  {
   "cell_type": "code",
   "execution_count": 14,
   "metadata": {
    "ExecuteTime": {
     "end_time": "2022-05-16T08:43:33.011015Z",
     "start_time": "2022-05-16T08:43:32.999011Z"
    },
    "id": "T1VEUO2DFQZd"
   },
   "outputs": [
    {
     "name": "stdout",
     "output_type": "stream",
     "text": [
      "카이제곱통계량 0.0\n",
      "p-value 1.0\n",
      "기대빈도\n",
      " [[0.50732337 0.49267663]\n",
      " [0.50732337 0.49267663]]\n"
     ]
    }
   ],
   "source": [
    "# 3. 가설검정(카이제곱검정)\n",
    "result = spst.chi2_contingency(table)\n",
    "print('카이제곱통계량', result[0])\n",
    "print('p-value', result[1])\n",
    "print('기대빈도\\n',result[3])"
   ]
  },
  {
   "cell_type": "markdown",
   "metadata": {
    "id": "iRNinsgWFQGF"
   },
   "source": [
    "4. 시각화 및 수치화를 통한 파악 내용\n",
    "    - 먼저 시각화를 통해 해당 변수들 간에는 관계가 없음을 확인했습니다.\n",
    "    - 또한 카이제곱 가설 검정을 통해 p-value가 0.05보다 높기에 우리의 대립가설 '대학 졸업 여부는 고객의 이탈여부와 관련이 있을 것이다.'는 기각 되었습니다.\n",
    "    - 비즈니스적으로 본다면 고객의 서비스 이탈 여부는 대학의 졸업 유무와는 관련이 없습니다."
   ]
  },
  {
   "cell_type": "markdown",
   "metadata": {
    "id": "4Xeo68yeLU98"
   },
   "source": [
    "#### 2) REPORTED_SATISFACTION --> CHURN"
   ]
  },
  {
   "cell_type": "code",
   "execution_count": 15,
   "metadata": {
    "ExecuteTime": {
     "end_time": "2022-05-16T08:43:33.042893Z",
     "start_time": "2022-05-16T08:43:33.013970Z"
    },
    "id": "rA7_WcWzLU-E"
   },
   "outputs": [
    {
     "data": {
      "text/html": [
       "<div>\n",
       "<style scoped>\n",
       "    .dataframe tbody tr th:only-of-type {\n",
       "        vertical-align: middle;\n",
       "    }\n",
       "\n",
       "    .dataframe tbody tr th {\n",
       "        vertical-align: top;\n",
       "    }\n",
       "\n",
       "    .dataframe thead th {\n",
       "        text-align: right;\n",
       "    }\n",
       "</style>\n",
       "<table border=\"1\" class=\"dataframe\">\n",
       "  <thead>\n",
       "    <tr style=\"text-align: right;\">\n",
       "      <th></th>\n",
       "      <th>COLLEGE</th>\n",
       "      <th>INCOME</th>\n",
       "      <th>OVERAGE</th>\n",
       "      <th>LEFTOVER</th>\n",
       "      <th>HOUSE</th>\n",
       "      <th>HANDSET_PRICE</th>\n",
       "      <th>AVERAGE_CALL_DURATION</th>\n",
       "      <th>REPORTED_SATISFACTION</th>\n",
       "      <th>CONSIDERING_CHANGE_OF_PLAN</th>\n",
       "      <th>CHURN</th>\n",
       "    </tr>\n",
       "  </thead>\n",
       "  <tbody>\n",
       "    <tr>\n",
       "      <th>0</th>\n",
       "      <td>1</td>\n",
       "      <td>47711</td>\n",
       "      <td>183</td>\n",
       "      <td>17</td>\n",
       "      <td>730589.0</td>\n",
       "      <td>192</td>\n",
       "      <td>5</td>\n",
       "      <td>unsat</td>\n",
       "      <td>considering</td>\n",
       "      <td>0</td>\n",
       "    </tr>\n",
       "    <tr>\n",
       "      <th>1</th>\n",
       "      <td>0</td>\n",
       "      <td>74132</td>\n",
       "      <td>191</td>\n",
       "      <td>43</td>\n",
       "      <td>535092.0</td>\n",
       "      <td>349</td>\n",
       "      <td>2</td>\n",
       "      <td>unsat</td>\n",
       "      <td>no</td>\n",
       "      <td>1</td>\n",
       "    </tr>\n",
       "    <tr>\n",
       "      <th>2</th>\n",
       "      <td>1</td>\n",
       "      <td>150419</td>\n",
       "      <td>0</td>\n",
       "      <td>14</td>\n",
       "      <td>204004.0</td>\n",
       "      <td>682</td>\n",
       "      <td>6</td>\n",
       "      <td>unsat</td>\n",
       "      <td>considering</td>\n",
       "      <td>0</td>\n",
       "    </tr>\n",
       "    <tr>\n",
       "      <th>3</th>\n",
       "      <td>0</td>\n",
       "      <td>159567</td>\n",
       "      <td>0</td>\n",
       "      <td>58</td>\n",
       "      <td>281969.0</td>\n",
       "      <td>634</td>\n",
       "      <td>1</td>\n",
       "      <td>very_unsat</td>\n",
       "      <td>never_thought</td>\n",
       "      <td>0</td>\n",
       "    </tr>\n",
       "    <tr>\n",
       "      <th>4</th>\n",
       "      <td>1</td>\n",
       "      <td>23392</td>\n",
       "      <td>0</td>\n",
       "      <td>0</td>\n",
       "      <td>216707.0</td>\n",
       "      <td>233</td>\n",
       "      <td>15</td>\n",
       "      <td>unsat</td>\n",
       "      <td>no</td>\n",
       "      <td>1</td>\n",
       "    </tr>\n",
       "    <tr>\n",
       "      <th>...</th>\n",
       "      <td>...</td>\n",
       "      <td>...</td>\n",
       "      <td>...</td>\n",
       "      <td>...</td>\n",
       "      <td>...</td>\n",
       "      <td>...</td>\n",
       "      <td>...</td>\n",
       "      <td>...</td>\n",
       "      <td>...</td>\n",
       "      <td>...</td>\n",
       "    </tr>\n",
       "    <tr>\n",
       "      <th>17995</th>\n",
       "      <td>0</td>\n",
       "      <td>31079</td>\n",
       "      <td>200</td>\n",
       "      <td>40</td>\n",
       "      <td>NaN</td>\n",
       "      <td>181</td>\n",
       "      <td>11</td>\n",
       "      <td>unsat</td>\n",
       "      <td>actively_looking_into_it</td>\n",
       "      <td>0</td>\n",
       "    </tr>\n",
       "    <tr>\n",
       "      <th>17996</th>\n",
       "      <td>0</td>\n",
       "      <td>137194</td>\n",
       "      <td>63</td>\n",
       "      <td>0</td>\n",
       "      <td>NaN</td>\n",
       "      <td>787</td>\n",
       "      <td>11</td>\n",
       "      <td>very_unsat</td>\n",
       "      <td>no</td>\n",
       "      <td>1</td>\n",
       "    </tr>\n",
       "    <tr>\n",
       "      <th>17997</th>\n",
       "      <td>0</td>\n",
       "      <td>82931</td>\n",
       "      <td>0</td>\n",
       "      <td>77</td>\n",
       "      <td>NaN</td>\n",
       "      <td>232</td>\n",
       "      <td>2</td>\n",
       "      <td>very_unsat</td>\n",
       "      <td>never_thought</td>\n",
       "      <td>0</td>\n",
       "    </tr>\n",
       "    <tr>\n",
       "      <th>17998</th>\n",
       "      <td>0</td>\n",
       "      <td>124391</td>\n",
       "      <td>0</td>\n",
       "      <td>19</td>\n",
       "      <td>NaN</td>\n",
       "      <td>862</td>\n",
       "      <td>2</td>\n",
       "      <td>unsat</td>\n",
       "      <td>no</td>\n",
       "      <td>0</td>\n",
       "    </tr>\n",
       "    <tr>\n",
       "      <th>17999</th>\n",
       "      <td>0</td>\n",
       "      <td>104849</td>\n",
       "      <td>223</td>\n",
       "      <td>5</td>\n",
       "      <td>NaN</td>\n",
       "      <td>463</td>\n",
       "      <td>5</td>\n",
       "      <td>very_unsat</td>\n",
       "      <td>considering</td>\n",
       "      <td>1</td>\n",
       "    </tr>\n",
       "  </tbody>\n",
       "</table>\n",
       "<p>18000 rows × 10 columns</p>\n",
       "</div>"
      ],
      "text/plain": [
       "       COLLEGE  INCOME  OVERAGE  LEFTOVER     HOUSE  HANDSET_PRICE  \\\n",
       "0            1   47711      183        17  730589.0            192   \n",
       "1            0   74132      191        43  535092.0            349   \n",
       "2            1  150419        0        14  204004.0            682   \n",
       "3            0  159567        0        58  281969.0            634   \n",
       "4            1   23392        0         0  216707.0            233   \n",
       "...        ...     ...      ...       ...       ...            ...   \n",
       "17995        0   31079      200        40       NaN            181   \n",
       "17996        0  137194       63         0       NaN            787   \n",
       "17997        0   82931        0        77       NaN            232   \n",
       "17998        0  124391        0        19       NaN            862   \n",
       "17999        0  104849      223         5       NaN            463   \n",
       "\n",
       "       AVERAGE_CALL_DURATION REPORTED_SATISFACTION CONSIDERING_CHANGE_OF_PLAN  \\\n",
       "0                          5                 unsat                considering   \n",
       "1                          2                 unsat                         no   \n",
       "2                          6                 unsat                considering   \n",
       "3                          1            very_unsat              never_thought   \n",
       "4                         15                 unsat                         no   \n",
       "...                      ...                   ...                        ...   \n",
       "17995                     11                 unsat   actively_looking_into_it   \n",
       "17996                     11            very_unsat                         no   \n",
       "17997                      2            very_unsat              never_thought   \n",
       "17998                      2                 unsat                         no   \n",
       "17999                      5            very_unsat                considering   \n",
       "\n",
       "       CHURN  \n",
       "0          0  \n",
       "1          1  \n",
       "2          0  \n",
       "3          0  \n",
       "4          1  \n",
       "...      ...  \n",
       "17995      0  \n",
       "17996      1  \n",
       "17997      0  \n",
       "17998      0  \n",
       "17999      1  \n",
       "\n",
       "[18000 rows x 10 columns]"
      ]
     },
     "execution_count": 15,
     "metadata": {},
     "output_type": "execute_result"
    }
   ],
   "source": [
    "feature = 'REPORTED_SATISFACTION'\n",
    "mobile"
   ]
  },
  {
   "cell_type": "code",
   "execution_count": 16,
   "metadata": {
    "ExecuteTime": {
     "end_time": "2022-05-16T08:43:33.802868Z",
     "start_time": "2022-05-16T08:43:33.048897Z"
    },
    "id": "3ZYBcWJ8FSNv"
   },
   "outputs": [
    {
     "name": "stdout",
     "output_type": "stream",
     "text": [
      "교차표\n",
      " CHURN                0         1\n",
      "Satisfaction                    \n",
      "0             0.504251  0.495749\n",
      "1             0.514379  0.485621\n",
      "----------------------------------------------------------------------------------------------------\n"
     ]
    },
    {
     "data": {
      "text/plain": [
       "<Figure size 1152x288 with 0 Axes>"
      ]
     },
     "metadata": {},
     "output_type": "display_data"
    },
    {
     "data": {
      "image/png": "[encoded data removed]",
      "text/plain": [
       "<Figure size 432x288 with 1 Axes>"
      ]
     },
     "metadata": {
      "needs_background": "light"
     },
     "output_type": "display_data"
    }
   ],
   "source": [
    "# 가변수화\n",
    "temp = mobile.loc[mobile[feature].notnull()]\n",
    "\n",
    "temp['Satisfaction'] = 0\n",
    "temp.loc[temp[feature] == 'very_sat', 'Satisfaction'] = 1\n",
    "temp.loc[temp[feature] == 'sat', 'Satisfaction'] = 1\n",
    "temp.loc[temp[feature] == 'avg', 'Satisfaction'] = 0\n",
    "temp.loc[temp[feature] == 'unsat', 'Satisfaction'] = 0\n",
    "temp.loc[temp[feature] == 'very_unsat', 'Satisfaction'] = 0\n",
    "\n",
    "feature = 'Satisfaction'\n",
    "\n",
    "# 교차표 생성\n",
    "table = pd.crosstab(temp[feature], temp[target], normalize = 'index')\n",
    "\n",
    "# 1. 교차표 출력\n",
    "print('교차표\\n', table)\n",
    "print('-' * 100)\n",
    "\n",
    "# 2. 시각화(\n",
    "plt.figure(figsize = (16, 4))\n",
    "table.plot.bar(stacked=True)\n",
    "plt.axhline(1 - temp[feature].mean(), color = 'r')\n",
    "plt.show()"
   ]
  },
  {
   "cell_type": "code",
   "execution_count": 17,
   "metadata": {
    "ExecuteTime": {
     "end_time": "2022-05-16T08:43:33.961415Z",
     "start_time": "2022-05-16T08:43:33.804834Z"
    },
    "id": "H8r6fiOjFSKP"
   },
   "outputs": [
    {
     "data": {
      "image/png": "[encoded data removed]",
      "text/plain": [
       "<Figure size 432x288 with 3 Axes>"
      ]
     },
     "metadata": {
      "needs_background": "light"
     },
     "output_type": "display_data"
    }
   ],
   "source": [
    "mosaic(temp, [feature, target])\n",
    "plt.axhline(1 - temp[target].mean(), color = 'r')\n",
    "plt.show()"
   ]
  },
  {
   "cell_type": "code",
   "execution_count": 18,
   "metadata": {
    "ExecuteTime": {
     "end_time": "2022-05-16T08:43:33.977370Z",
     "start_time": "2022-05-16T08:43:33.964405Z"
    },
    "id": "-lZ7bHbDFSG-"
   },
   "outputs": [
    {
     "name": "stdout",
     "output_type": "stream",
     "text": [
      "카이제곱통계량 0.0\n",
      "p-value 1.0\n",
      "기대빈도\n",
      " [[0.5093151 0.4906849]\n",
      " [0.5093151 0.4906849]]\n"
     ]
    }
   ],
   "source": [
    "# 3. 가설검정(카이제곱검정)\n",
    "result = spst.chi2_contingency(table)\n",
    "print('카이제곱통계량', result[0])\n",
    "print('p-value', result[1])\n",
    "print('기대빈도\\n',result[3])"
   ]
  },
  {
   "cell_type": "markdown",
   "metadata": {},
   "source": [
    "4. 시각화 및 수치화를 통한 파악 내용\n",
    "    - 가변화 후 시각화와 가설 검정 결과 놀랍게도 서비스와 이탈 사이에는 관련이 매우 적어 보입니다.\n",
    "    - 이는 서비스 불만족과 이탈률의 연관이 적기 보다는 자사 통신 서비스를 써야만 하는 고객층이 있는 것으로 파악됩니다.\n",
    "    - 또는 자사에 경각심을 가지게 하기 위해 소비자들이 설문 대답을 이렇게 작성할 가능성 역시 있습니다.  \n",
    "    - 따라서 아무리 고객 이탈율과 서비스 만족도 사이의 관련성이 적어 보인다 해도 최종적으로 서비스의 만족도를 올려야 하기 때문에 이 부분을 완전히 무시할 순 없습니다."
   ]
  },
  {
   "cell_type": "markdown",
   "metadata": {
    "id": "bdWZCugILZAz"
   },
   "source": [
    "#### 3) CONSIDERING_CHANGE_OF_PLAN --> CHURN"
   ]
  },
  {
   "cell_type": "code",
   "execution_count": 19,
   "metadata": {
    "ExecuteTime": {
     "end_time": "2022-05-16T08:43:33.993328Z",
     "start_time": "2022-05-16T08:43:33.979366Z"
    },
    "id": "H7UDK6CKLZAz"
   },
   "outputs": [],
   "source": [
    "feature = 'CONSIDERING_CHANGE_OF_PLAN'"
   ]
  },
  {
   "cell_type": "code",
   "execution_count": 20,
   "metadata": {
    "ExecuteTime": {
     "end_time": "2022-05-16T08:43:34.232747Z",
     "start_time": "2022-05-16T08:43:33.995322Z"
    },
    "id": "yzB6q17JFUu2"
   },
   "outputs": [
    {
     "name": "stdout",
     "output_type": "stream",
     "text": [
      "교차표\n",
      " CHURN               0         1\n",
      "CONSIDERING                    \n",
      "0            0.500312  0.499688\n",
      "1            0.511126  0.488874\n",
      "----------------------------------------------------------------------------------------------------\n"
     ]
    },
    {
     "data": {
      "text/plain": [
       "<Figure size 1152x288 with 0 Axes>"
      ]
     },
     "metadata": {},
     "output_type": "display_data"
    },
    {
     "data": {
      "image/png": "[encoded data removed]",
      "text/plain": [
       "<Figure size 432x288 with 1 Axes>"
      ]
     },
     "metadata": {
      "needs_background": "light"
     },
     "output_type": "display_data"
    }
   ],
   "source": [
    "# 가변수화\n",
    "temp = mobile.loc[mobile[feature].notnull()]\n",
    "\n",
    "temp['CONSIDERING'] = 0\n",
    "temp.loc[temp[feature] == 'actively_looking_into_it', 'CONSIDERING'] = 1\n",
    "temp.loc[temp[feature] == 'considering', 'CONSIDERING'] = 1\n",
    "temp.loc[temp[feature] == 'perhaps', 'CONSIDERING'] = 0\n",
    "temp.loc[temp[feature] == 'no', 'CONSIDERING'] = 0\n",
    "temp.loc[temp[feature] == 'never_thought', 'CONSIDERING'] = 0\n",
    "\n",
    "feature = 'CONSIDERING'\n",
    "\n",
    "# 교차표 생성\n",
    "table = pd.crosstab(temp[feature], temp[target], normalize = 'index')\n",
    "\n",
    "# 1. 교차표 출력\n",
    "print('교차표\\n', table)\n",
    "print('-' * 100)\n",
    "\n",
    "# 2. 시각화(\n",
    "plt.figure(figsize = (16, 4))\n",
    "table.plot.bar(stacked=True)\n",
    "plt.axhline(1 - temp[feature].mean(), color = 'r')\n",
    "plt.show()"
   ]
  },
  {
   "cell_type": "code",
   "execution_count": 21,
   "metadata": {
    "ExecuteTime": {
     "end_time": "2022-05-16T08:43:34.500463Z",
     "start_time": "2022-05-16T08:43:34.234707Z"
    },
    "id": "yruN2nAbFUhU"
   },
   "outputs": [
    {
     "data": {
      "image/png": "[encoded data removed]",
      "text/plain": [
       "<Figure size 432x288 with 3 Axes>"
      ]
     },
     "metadata": {
      "needs_background": "light"
     },
     "output_type": "display_data"
    }
   ],
   "source": [
    "mosaic(temp, [feature, target])\n",
    "plt.axhline(1 - temp[target].mean(), color = 'r')\n",
    "plt.show()"
   ]
  },
  {
   "cell_type": "code",
   "execution_count": 22,
   "metadata": {
    "ExecuteTime": {
     "end_time": "2022-05-16T08:43:34.516523Z",
     "start_time": "2022-05-16T08:43:34.502558Z"
    },
    "id": "a0RGyObLFUdu"
   },
   "outputs": [
    {
     "name": "stdout",
     "output_type": "stream",
     "text": [
      "카이제곱통계량 0.0\n",
      "p-value 1.0\n",
      "기대빈도\n",
      " [[0.50571933 0.49428067]\n",
      " [0.50571933 0.49428067]]\n"
     ]
    }
   ],
   "source": [
    "# 3. 가설검정(카이제곱검정)\n",
    "result = spst.chi2_contingency(table)\n",
    "print('카이제곱통계량', result[0])\n",
    "print('p-value', result[1])\n",
    "print('기대빈도\\n',result[3])"
   ]
  },
  {
   "cell_type": "markdown",
   "metadata": {},
   "source": [
    "4. 시각화 및 수치화를 통한 파악 내용\n",
    "    - 시각화와 수치화를 통해 요금 변경 계획가 고객 이탈 사이의 관계는 거의 없어 보입니다.  \n",
    "    - 이는 생각해보면 고객들은 경쟁사들과 자사의 서비스 및 프로모션을 비교해 합리적으로 통신 서비스를 선택하고 있다고 생각할 수 있습니다.\n",
    "    - 따라서 해당 설문에서 변경 계획이 더 많다고 나온 것은 자사 서비스보다 경쟁력 있는 프로모션 서비스가 나온다면 이탈할 수 있다는 것을 의미합니다.\n",
    "    -  이에 대응하기 위해 자사는 통신 서비스의 가격 책정 및 다양한 프로모션 혹은 서비스 퀄리티를 높이는 전략으로 고객확보에 힘써야 합니다."
   ]
  },
  {
   "cell_type": "markdown",
   "metadata": {
    "id": "lUsQ0iBHMqte"
   },
   "source": [
    "### (2) 숫자형 Feature --> CHURN\n",
    "\n",
    "* 숫자형 Feature에 대해서 Y와 비교하여 차트를 그리고 수치화 하시오.  \n",
    "    ① 그래프 : histogram, densityplot   \n",
    "    ② 수치화 : 로지스틱회귀"
   ]
  },
  {
   "cell_type": "markdown",
   "metadata": {
    "id": "F_Mugk3f_y3X"
   },
   "source": [
    "#### 1) INCOME --> CHURN\n"
   ]
  },
  {
   "cell_type": "code",
   "execution_count": 23,
   "metadata": {
    "ExecuteTime": {
     "end_time": "2022-05-16T08:43:34.532521Z",
     "start_time": "2022-05-16T08:43:34.519524Z"
    },
    "id": "8ROLKtUueHSn"
   },
   "outputs": [],
   "source": [
    "feature = 'INCOME'"
   ]
  },
  {
   "cell_type": "code",
   "execution_count": 24,
   "metadata": {
    "ExecuteTime": {
     "end_time": "2022-05-16T08:43:35.101739Z",
     "start_time": "2022-05-16T08:43:34.535473Z"
    },
    "id": "pRhxayOcFdXb"
   },
   "outputs": [
    {
     "data": {
      "image/png": "[encoded data removed]",
      "text/plain": [
       "<Figure size 1152x288 with 2 Axes>"
      ]
     },
     "metadata": {
      "needs_background": "light"
     },
     "output_type": "display_data"
    }
   ],
   "source": [
    "# 1. 시각화\n",
    "plt.figure(figsize = (16, 4))\n",
    "\n",
    "plt.subplot(1, 2, 1)\n",
    "sns.histplot(x = feature, data = mobile, hue = target)\n",
    "\n",
    "plt.subplot(1, 2, 2)\n",
    "sns.kdeplot(x = feature, data = mobile, hue = target, common_norm = False)\n",
    "\n",
    "plt.tight_layout()\n",
    "plt.show()"
   ]
  },
  {
   "cell_type": "code",
   "execution_count": 25,
   "metadata": {
    "ExecuteTime": {
     "end_time": "2022-05-16T08:43:35.133629Z",
     "start_time": "2022-05-16T08:43:35.105719Z"
    },
    "id": "V716mlpmFdUE"
   },
   "outputs": [
    {
     "name": "stdout",
     "output_type": "stream",
     "text": [
      "Optimization terminated successfully.\n",
      "         Current function value: 0.692683\n",
      "         Iterations 2\n",
      "INCOME    0.000044\n",
      "dtype: float64\n"
     ]
    }
   ],
   "source": [
    "# 2. 로지스틱 회귀\n",
    "model = sm.Logit(mobile[target], mobile[feature])\n",
    "result = model.fit()\n",
    "print(result.pvalues)"
   ]
  },
  {
   "cell_type": "markdown",
   "metadata": {
    "id": "8z58caznFdNU"
   },
   "source": [
    "3. 시각화 및 수치화를 통한 파악 내용 (비즈니스 관점 포함)\n",
    "    - 시각화를 통해 소득이 높은 고객일수록 고객 이탈 비율이 높은 것을 알 수 있습니다.\n",
    "    - 또한 p-value가 0.05보다 낮기 때문에 귀무가설이 기각됨.\n",
    "    - 비즈니스 차원에서 이를 이해해보면 소득이 높은 고객일수록 자신의 지출을 컨트롤 하는 경향이 더 큽니다. 즉 이용하는 서비스의 경쟁력이 타사보다 낮거나 약하다면 바로 이탈하는 것으로 생각 할 수 있습니다.\n",
    "    - 그러나 소득에 따른 이탈여부의 관계가 명확하게 설명되지 않기 때문에 소득 구간별로 해당 데이터를 볼 필요가 있습니다.  "
   ]
  },
  {
   "cell_type": "markdown",
   "metadata": {
    "id": "QwikcGXELsny"
   },
   "source": [
    "#### 2) HANDSET_PRICE --> CHURN\n"
   ]
  },
  {
   "cell_type": "code",
   "execution_count": 26,
   "metadata": {
    "ExecuteTime": {
     "end_time": "2022-05-16T08:43:35.149585Z",
     "start_time": "2022-05-16T08:43:35.135622Z"
    },
    "id": "bGWLTAg9Lsny"
   },
   "outputs": [],
   "source": [
    "feature = 'HANDSET_PRICE'"
   ]
  },
  {
   "cell_type": "code",
   "execution_count": 27,
   "metadata": {
    "ExecuteTime": {
     "end_time": "2022-05-16T08:43:35.748897Z",
     "start_time": "2022-05-16T08:43:35.151580Z"
    },
    "id": "R4crpBV9FfAM"
   },
   "outputs": [
    {
     "data": {
      "image/png": "[encoded data removed]",
      "text/plain": [
       "<Figure size 1152x288 with 2 Axes>"
      ]
     },
     "metadata": {
      "needs_background": "light"
     },
     "output_type": "display_data"
    }
   ],
   "source": [
    "# 1. 시각화\n",
    "plt.figure(figsize = (16, 4))\n",
    "\n",
    "plt.subplot(1, 2, 1)\n",
    "sns.histplot(x = feature, data = mobile, hue = target)\n",
    "\n",
    "plt.subplot(1, 2, 2)\n",
    "sns.kdeplot(x = feature, data = mobile, hue = target, common_norm = False)\n",
    "\n",
    "plt.tight_layout()\n",
    "plt.show()"
   ]
  },
  {
   "cell_type": "code",
   "execution_count": 28,
   "metadata": {
    "ExecuteTime": {
     "end_time": "2022-05-16T08:43:35.780809Z",
     "start_time": "2022-05-16T08:43:35.753886Z"
    },
    "id": "Wk4QkkXyFe8_"
   },
   "outputs": [
    {
     "name": "stdout",
     "output_type": "stream",
     "text": [
      "Optimization terminated successfully.\n",
      "         Current function value: 0.692730\n",
      "         Iterations 3\n",
      "HANDSET_PRICE    0.000107\n",
      "dtype: float64\n"
     ]
    }
   ],
   "source": [
    "# 2. 로지스틱 회귀\n",
    "model = sm.Logit(temp[target], temp[feature])\n",
    "result = model.fit()\n",
    "print(result.pvalues)"
   ]
  },
  {
   "cell_type": "markdown",
   "metadata": {
    "id": "V-ohsvLDFe5f"
   },
   "source": [
    "3. 시각화 및 수치화를 통한 파악 내용\n",
    "    - 핸드폰 가격이 저렴 할수록 이탈 고객의 수가 급감함을 알 수 있습니다.  \n",
    "    - 하지만 핸드폰 가격이 400달러를 넘어가는 기종들에선 서비스 이탈자가 각 휴대폰 가격대에서 사용자보다 높습니다.  \n",
    "    - 또한 p-value역시 0.05보다 낮아 우리의 가설이 맞음을 설명합니다.\n",
    "    - 이를 통해 알 수 있는건 자사가 저렴한 휴대폰과 관련된 통신 상품에 경쟁력이 타사보다 높지만, 반대로 고가의 휴대폰과 관련된 통신 서비스의 경쟁력이 타사보다 낮음을 알 수 있습니다.  \n",
    "    - 따라서 고가의 휴대폰을 사용하는 고객들의 서비스 이탈을 막기 위해 추가적인 프로모션이 필요할 것으로 보입니다."
   ]
  },
  {
   "cell_type": "markdown",
   "metadata": {
    "id": "KkyjTXOqLsyK"
   },
   "source": [
    "#### 3) AVERAGE_CALL_DURATION --> CHURN\n"
   ]
  },
  {
   "cell_type": "code",
   "execution_count": 29,
   "metadata": {
    "ExecuteTime": {
     "end_time": "2022-05-16T08:43:35.796769Z",
     "start_time": "2022-05-16T08:43:35.783802Z"
    },
    "id": "ZNHDXzGALsyK"
   },
   "outputs": [],
   "source": [
    "feature = 'AVERAGE_CALL_DURATION'"
   ]
  },
  {
   "cell_type": "code",
   "execution_count": 30,
   "metadata": {
    "ExecuteTime": {
     "end_time": "2022-05-16T08:43:36.444261Z",
     "start_time": "2022-05-16T08:43:35.802754Z"
    },
    "id": "zdX0gPMOFggG"
   },
   "outputs": [
    {
     "data": {
      "image/png": "[encoded data removed]",
      "text/plain": [
       "<Figure size 1152x288 with 2 Axes>"
      ]
     },
     "metadata": {
      "needs_background": "light"
     },
     "output_type": "display_data"
    }
   ],
   "source": [
    "# 1. 시각화\n",
    "plt.figure(figsize = (16, 4))\n",
    "\n",
    "plt.subplot(1, 2, 1)\n",
    "sns.histplot(x = feature, data = mobile, hue = target)\n",
    "\n",
    "plt.subplot(1, 2, 2)\n",
    "sns.kdeplot(x = feature, data = mobile, hue = target, common_norm = False)\n",
    "\n",
    "plt.tight_layout()\n",
    "plt.show()"
   ]
  },
  {
   "cell_type": "code",
   "execution_count": 31,
   "metadata": {
    "ExecuteTime": {
     "end_time": "2022-05-16T08:43:36.475105Z",
     "start_time": "2022-05-16T08:43:36.447180Z"
    },
    "id": "Fb_Y9eIsFgc-"
   },
   "outputs": [
    {
     "name": "stdout",
     "output_type": "stream",
     "text": [
      "Optimization terminated successfully.\n",
      "         Current function value: 0.693027\n",
      "         Iterations 3\n",
      "AVERAGE_CALL_DURATION    0.03783\n",
      "dtype: float64\n"
     ]
    }
   ],
   "source": [
    "# 2. 로지스틱 회귀\n",
    "model = sm.Logit(temp[target], temp[feature])\n",
    "result = model.fit()\n",
    "print(result.pvalues)"
   ]
  },
  {
   "cell_type": "markdown",
   "metadata": {
    "id": "FFVmR4hXFgaM"
   },
   "source": [
    "3. 시각화 및 수치화를 통한 파악 내용\n",
    "    - 평균 통화량이 높아질 수록 서비스 이탈자가 적어짐을 볼 수 있습니다.\n",
    "    - p-value 역시 0.03으로 우리의 가설이 어느정도 맞음을 보여줍니다.\n",
    "    - 이는 자사의 통화 서비스가 시간이 올라갈수록 타사보다 경쟁력이 있음을 의미합니다.\n",
    "    - 반면 짧게 통화할 수록 이탈자의 비중이 높아지는 것으로 보아, 자사의 통화 서비스의 기본 요금이 타사보다 높음을 알 수 있습니다.  \n",
    "    - 따라서 통화 서비스의 가격 책정을 다시 할 필요가 있습니다."
   ]
  },
  {
   "cell_type": "markdown",
   "metadata": {
    "id": "Jd4WbbU-jqU3"
   },
   "source": [
    "## 4.관계 정리"
   ]
  },
  {
   "cell_type": "markdown",
   "metadata": {
    "id": "bKmN0rtAjto6"
   },
   "source": [
    "### 1) 강한관계의 변수"
   ]
  },
  {
   "cell_type": "markdown",
   "metadata": {
    "id": "lx6Np73PL0YS"
   },
   "source": [
    "INCOME, HANDSET_PRICE"
   ]
  },
  {
   "cell_type": "markdown",
   "metadata": {
    "id": "u8B765zNjwp5"
   },
   "source": [
    "### 2) 약한관계의 변수"
   ]
  },
  {
   "cell_type": "markdown",
   "metadata": {
    "id": "kg8-QylzL1kE"
   },
   "source": [
    "AVERAGE_CALL_DURATION"
   ]
  },
  {
   "cell_type": "markdown",
   "metadata": {
    "id": "eYiQ9OUijwdq"
   },
   "source": [
    "### 3) 관계 없음"
   ]
  },
  {
   "cell_type": "markdown",
   "metadata": {
    "id": "K0o6lwH5L2Wj"
   },
   "source": [
    "REPORTED_SATISFACTION, COLLEGE, REPORTED_SATISFACTION"
   ]
  },
  {
   "cell_type": "markdown",
   "metadata": {
    "id": "nePF6KE6jlX6"
   },
   "source": [
    "## 5.추가 분석"
   ]
  },
  {
   "cell_type": "markdown",
   "metadata": {
    "id": "B8E9F24bkYTn"
   },
   "source": [
    "- 휴대폰이 시장에서 정가로 많이 팔리는지, 프로모션을 통해 할인된 가격으로 많이 팔리는지 실제 시장 가격을 추가로 조사해야 합니다.  \n",
    "- 고객의 통화 사용의 주 목적이 무엇인지 파악할 필요가 있습니다.\n",
    "- 전체 고객 중 70%가 이탈 위험이 있기 때문에 어떤 서비스가 구체적으로 불만족스러운지 조사할 필요가 있습니다.\n",
    "-  통신사의 이탈 여부와 관련해 현재 경쟁사의 서비스 프로모션이 진행되고 있는지 조사할 필요가 있습니다."
   ]
  },
  {
   "cell_type": "code",
   "execution_count": null,
   "metadata": {},
   "outputs": [],
   "source": []
  }
 ],
 "metadata": {
  "colab": {
   "collapsed_sections": [
    "bdWZCugILZAz",
    "6ks7Mts5ZOIO",
    "KkyjTXOqLsyK",
    "wv6nX82-ZIG4"
   ],
   "name": "과제2. Mobile 고객 이탈 분석.ipynb",
   "provenance": []
  },
  "kernelspec": {
   "display_name": "Python 3 (ipykernel)",
   "language": "python",
   "name": "python3"
  },
  "language_info": {
   "codemirror_mode": {
    "name": "ipython",
    "version": 3
   },
   "file_extension": ".py",
   "mimetype": "text/x-python",
   "name": "python",
   "nbconvert_exporter": "python",
   "pygments_lexer": "ipython3",
   "version": "3.8.8"
  },
  "toc": {
   "base_numbering": 1,
   "nav_menu": {},
   "number_sections": false,
   "sideBar": true,
   "skip_h1_title": false,
   "title_cell": "Table of Contents",
   "title_sidebar": "Contents",
   "toc_cell": false,
   "toc_position": {
    "height": "calc(100% - 180px)",
    "left": "10px",
    "top": "150px",
    "width": "243.594px"
   },
   "toc_section_display": true,
   "toc_window_display": true
  }
 },
 "nbformat": 4,
 "nbformat_minor": 1
}
