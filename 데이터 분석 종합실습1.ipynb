{
 "cells": [
  {
   "cell_type": "markdown",
   "metadata": {
    "id": "mTt7qGUTCcFs"
   },
   "source": [
    "## 문제 출처: https://github.com/DA4BAM/dataset\n"
   ]
  },
  {
   "cell_type": "markdown",
   "metadata": {},
   "source": [
    "# 직원 이직 분석"
   ]
  },
  {
   "cell_type": "markdown",
   "metadata": {
    "id": "t42CZ_o2iHvT"
   },
   "source": [
    "* 최근 이직율이 증가하는 것에 대해 우려를 갖고 있기에, 이직여부에 영향을 주는 요인에 대해 분석하여, 직원들이 회사를 떠나지 않도록 인사 프로그램을 준비하려고 합니다.\n",
    "* 필요하다면, 검색을 통해 '직원이 회사를 떠나는 이유' 등을 찾아보는 것은 데이터 분석을 하는데 도움이 될 것입니다.\n",
    "* 이제 제공한 데이터를 바탕으로 각각 개별 변수의 분포를 살펴보며, 비즈니스 인사이트를 최대한 도출해 봅시다."
   ]
  },
  {
   "cell_type": "markdown",
   "metadata": {
    "id": "0wuYJKZHjA3d"
   },
   "source": [
    "![](https://adoptostaging.blob.core.windows.net/media/employee-attrition-reasons-9LIqMv.jpg)"
   ]
  },
  {
   "cell_type": "markdown",
   "metadata": {
    "id": "AHmt88Q5EVsj"
   },
   "source": [
    "## 0.환경설정"
   ]
  },
  {
   "cell_type": "markdown",
   "metadata": {
    "id": "KnzVh2LmkLDU"
   },
   "source": [
    "### 1) 라이브러리 로딩"
   ]
  },
  {
   "cell_type": "code",
   "execution_count": 1,
   "metadata": {
    "ExecuteTime": {
     "end_time": "2022-05-16T08:32:33.330216Z",
     "start_time": "2022-05-16T08:32:30.343790Z"
    },
    "id": "3rsQerEaELwI"
   },
   "outputs": [],
   "source": [
    "import pandas as pd\n",
    "import numpy as np\n",
    "import matplotlib.pyplot as plt\n",
    "import seaborn as sns\n",
    "from statsmodels.graphics.mosaicplot import mosaic\n",
    "from scipy import stats as spst\n",
    "import statsmodels.api as sm"
   ]
  },
  {
   "cell_type": "markdown",
   "metadata": {
    "id": "5Qh5KYWokO_N"
   },
   "source": [
    "### 2) 데이터 로딩"
   ]
  },
  {
   "cell_type": "code",
   "execution_count": 2,
   "metadata": {
    "ExecuteTime": {
     "end_time": "2022-05-16T08:32:33.705026Z",
     "start_time": "2022-05-16T08:32:33.335209Z"
    },
    "id": "Bw5yZwT0MJKx"
   },
   "outputs": [
    {
     "data": {
      "text/html": [
       "<div>\n",
       "<style scoped>\n",
       "    .dataframe tbody tr th:only-of-type {\n",
       "        vertical-align: middle;\n",
       "    }\n",
       "\n",
       "    .dataframe tbody tr th {\n",
       "        vertical-align: top;\n",
       "    }\n",
       "\n",
       "    .dataframe thead th {\n",
       "        text-align: right;\n",
       "    }\n",
       "</style>\n",
       "<table border=\"1\" class=\"dataframe\">\n",
       "  <thead>\n",
       "    <tr style=\"text-align: right;\">\n",
       "      <th></th>\n",
       "      <th>Attrition</th>\n",
       "      <th>Age</th>\n",
       "      <th>DistanceFromHome</th>\n",
       "      <th>Gender</th>\n",
       "      <th>JobSatisfaction</th>\n",
       "      <th>MaritalStatus</th>\n",
       "      <th>MonthlyIncome</th>\n",
       "      <th>NumCompaniesWorked</th>\n",
       "      <th>OverTime</th>\n",
       "      <th>PercentSalaryHike</th>\n",
       "      <th>RelationshipSatisfaction</th>\n",
       "      <th>TotalWorkingYears</th>\n",
       "      <th>WorkLifeBalance</th>\n",
       "    </tr>\n",
       "  </thead>\n",
       "  <tbody>\n",
       "    <tr>\n",
       "      <th>0</th>\n",
       "      <td>0</td>\n",
       "      <td>33</td>\n",
       "      <td>7.0</td>\n",
       "      <td>Male</td>\n",
       "      <td>3</td>\n",
       "      <td>Married</td>\n",
       "      <td>11691</td>\n",
       "      <td>0.0</td>\n",
       "      <td>No</td>\n",
       "      <td>11</td>\n",
       "      <td>4</td>\n",
       "      <td>14</td>\n",
       "      <td>4</td>\n",
       "    </tr>\n",
       "    <tr>\n",
       "      <th>1</th>\n",
       "      <td>0</td>\n",
       "      <td>35</td>\n",
       "      <td>18.0</td>\n",
       "      <td>Male</td>\n",
       "      <td>4</td>\n",
       "      <td>Single</td>\n",
       "      <td>9362</td>\n",
       "      <td>2.0</td>\n",
       "      <td>No</td>\n",
       "      <td>11</td>\n",
       "      <td>3</td>\n",
       "      <td>10</td>\n",
       "      <td>3</td>\n",
       "    </tr>\n",
       "    <tr>\n",
       "      <th>2</th>\n",
       "      <td>0</td>\n",
       "      <td>42</td>\n",
       "      <td>6.0</td>\n",
       "      <td>Male</td>\n",
       "      <td>1</td>\n",
       "      <td>Married</td>\n",
       "      <td>13348</td>\n",
       "      <td>9.0</td>\n",
       "      <td>No</td>\n",
       "      <td>13</td>\n",
       "      <td>2</td>\n",
       "      <td>18</td>\n",
       "      <td>4</td>\n",
       "    </tr>\n",
       "    <tr>\n",
       "      <th>3</th>\n",
       "      <td>0</td>\n",
       "      <td>46</td>\n",
       "      <td>2.0</td>\n",
       "      <td>Female</td>\n",
       "      <td>1</td>\n",
       "      <td>Married</td>\n",
       "      <td>17048</td>\n",
       "      <td>8.0</td>\n",
       "      <td>No</td>\n",
       "      <td>23</td>\n",
       "      <td>1</td>\n",
       "      <td>28</td>\n",
       "      <td>3</td>\n",
       "    </tr>\n",
       "    <tr>\n",
       "      <th>4</th>\n",
       "      <td>0</td>\n",
       "      <td>39</td>\n",
       "      <td>NaN</td>\n",
       "      <td>Male</td>\n",
       "      <td>4</td>\n",
       "      <td>Divorced</td>\n",
       "      <td>4127</td>\n",
       "      <td>2.0</td>\n",
       "      <td>No</td>\n",
       "      <td>18</td>\n",
       "      <td>4</td>\n",
       "      <td>7</td>\n",
       "      <td>3</td>\n",
       "    </tr>\n",
       "    <tr>\n",
       "      <th>5</th>\n",
       "      <td>1</td>\n",
       "      <td>22</td>\n",
       "      <td>4.0</td>\n",
       "      <td>Male</td>\n",
       "      <td>3</td>\n",
       "      <td>Single</td>\n",
       "      <td>3894</td>\n",
       "      <td>5.0</td>\n",
       "      <td>No</td>\n",
       "      <td>16</td>\n",
       "      <td>3</td>\n",
       "      <td>4</td>\n",
       "      <td>3</td>\n",
       "    </tr>\n",
       "    <tr>\n",
       "      <th>6</th>\n",
       "      <td>0</td>\n",
       "      <td>24</td>\n",
       "      <td>21.0</td>\n",
       "      <td>Male</td>\n",
       "      <td>1</td>\n",
       "      <td>Divorced</td>\n",
       "      <td>2296</td>\n",
       "      <td>0.0</td>\n",
       "      <td>No</td>\n",
       "      <td>14</td>\n",
       "      <td>2</td>\n",
       "      <td>2</td>\n",
       "      <td>3</td>\n",
       "    </tr>\n",
       "    <tr>\n",
       "      <th>7</th>\n",
       "      <td>0</td>\n",
       "      <td>34</td>\n",
       "      <td>8.0</td>\n",
       "      <td>Male</td>\n",
       "      <td>3</td>\n",
       "      <td>Married</td>\n",
       "      <td>4404</td>\n",
       "      <td>2.0</td>\n",
       "      <td>No</td>\n",
       "      <td>12</td>\n",
       "      <td>1</td>\n",
       "      <td>6</td>\n",
       "      <td>4</td>\n",
       "    </tr>\n",
       "    <tr>\n",
       "      <th>8</th>\n",
       "      <td>0</td>\n",
       "      <td>30</td>\n",
       "      <td>20.0</td>\n",
       "      <td>Male</td>\n",
       "      <td>1</td>\n",
       "      <td>Married</td>\n",
       "      <td>9957</td>\n",
       "      <td>0.0</td>\n",
       "      <td>No</td>\n",
       "      <td>15</td>\n",
       "      <td>3</td>\n",
       "      <td>7</td>\n",
       "      <td>2</td>\n",
       "    </tr>\n",
       "    <tr>\n",
       "      <th>9</th>\n",
       "      <td>0</td>\n",
       "      <td>26</td>\n",
       "      <td>6.0</td>\n",
       "      <td>Female</td>\n",
       "      <td>4</td>\n",
       "      <td>Married</td>\n",
       "      <td>2659</td>\n",
       "      <td>1.0</td>\n",
       "      <td>Yes</td>\n",
       "      <td>13</td>\n",
       "      <td>3</td>\n",
       "      <td>3</td>\n",
       "      <td>3</td>\n",
       "    </tr>\n",
       "  </tbody>\n",
       "</table>\n",
       "</div>"
      ],
      "text/plain": [
       "   Attrition  Age  DistanceFromHome  Gender  JobSatisfaction MaritalStatus  \\\n",
       "0          0   33               7.0    Male                3       Married   \n",
       "1          0   35              18.0    Male                4        Single   \n",
       "2          0   42               6.0    Male                1       Married   \n",
       "3          0   46               2.0  Female                1       Married   \n",
       "4          0   39               NaN    Male                4      Divorced   \n",
       "5          1   22               4.0    Male                3        Single   \n",
       "6          0   24              21.0    Male                1      Divorced   \n",
       "7          0   34               8.0    Male                3       Married   \n",
       "8          0   30              20.0    Male                1       Married   \n",
       "9          0   26               6.0  Female                4       Married   \n",
       "\n",
       "   MonthlyIncome  NumCompaniesWorked OverTime  PercentSalaryHike  \\\n",
       "0          11691                 0.0       No                 11   \n",
       "1           9362                 2.0       No                 11   \n",
       "2          13348                 9.0       No                 13   \n",
       "3          17048                 8.0       No                 23   \n",
       "4           4127                 2.0       No                 18   \n",
       "5           3894                 5.0       No                 16   \n",
       "6           2296                 0.0       No                 14   \n",
       "7           4404                 2.0       No                 12   \n",
       "8           9957                 0.0       No                 15   \n",
       "9           2659                 1.0      Yes                 13   \n",
       "\n",
       "   RelationshipSatisfaction  TotalWorkingYears  WorkLifeBalance  \n",
       "0                         4                 14                4  \n",
       "1                         3                 10                3  \n",
       "2                         2                 18                4  \n",
       "3                         1                 28                3  \n",
       "4                         4                  7                3  \n",
       "5                         3                  4                3  \n",
       "6                         2                  2                3  \n",
       "7                         1                  6                4  \n",
       "8                         3                  7                2  \n",
       "9                         3                  3                3  "
      ]
     },
     "execution_count": 2,
     "metadata": {},
     "output_type": "execute_result"
    }
   ],
   "source": [
    "# data data\n",
    "path = \"https://raw.githubusercontent.com/DA4BAM/dataset/master/Attrition_NA.CSV\"\n",
    "data = pd.read_csv(path)\n",
    "data.drop(['EducationField', 'Education','JobInvolvement', 'StockOptionLevel', 'BusinessTravel','YearsWithCurrManager'\n",
    ",'YearsInCurrentRole','JobRole', 'Department','EmployeeNumber','EnvironmentSatisfaction','TrainingTimesLastYear','YearsAtCompany']\n",
    "          , axis = 1, inplace = True)\n",
    "data['Attrition'] = np.where(data['Attrition']=='Yes', 1, 0)\n",
    "data.head(10)"
   ]
  },
  {
   "cell_type": "markdown",
   "metadata": {
    "id": "v50TP8BhMJKx"
   },
   "source": [
    "|\t구분\t|\t변수 명\t|\t내용\t|\ttype\t|\t비고\t|\n",
    "|\t----\t|\t----\t|\t----\t|\t----\t|\t----\t|\n",
    "|\t**Target**\t|\t**Attrition**\t|\t이직여부, Yes , No\t|\t범주\t| 1- 이직, 0- 잔류\t\t|\n",
    "|\tfeature\t|\tAge\t|\t나이\t|\t숫자\t|\t\t|\n",
    "|\tfeature\t|\tDistanceFromHome\t|\t집-직장 거리\t|\t숫자\t|\t마일\t|\n",
    "|\tfeature\t|\tGender\t|\t성별\t|\t범주\t| Male, Female\t\t|\n",
    "|\tfeature\t|\tJobSatisfaction\t|\t직무 만족도\t|\t범주\t|\t1 Low, 2 Medium, 3 High, 4 Very High\t|\n",
    "|\tfeature\t|\tMaritalStatus\t|\t결혼상태\t|\t범주\t| Single, Married, Divorced\t\t|\n",
    "|\tfeature\t|\tMonthlyIncome\t|\t월급\t|\t숫자\t| 달러\t|\n",
    "|\tfeature\t|\tNumCompaniesWorked\t|\t입사 전 근무한 회사 수\t|\t숫자\t|\t0 - 우리회사가 첫 직장\t|\n",
    "|\tfeature\t|\tRelationshipSatisfaction\t|\t동료와의 관계\t|\t범주\t| 1 Low, 2 Medium, 3 High, 4 Very High\t\t|\n",
    "|\tfeature\t|\tOverTime\t|\t야근여부\t|\t범주\t|\tYes, No\t|\n",
    "|\tfeature\t|\tPercentSalaryHike\t|\t전년대비 급여인상율\t|\t숫자\t|\t%\t|\n",
    "|\tfeature\t|\tTotalWorkingYears\t|\t총 경력 연수\t|\t숫자\t|\t\t|\n",
    "|\tfeature\t|\tWorkLifeBalance\t|\t워라밸. 일-삶 균형도\t|\t범주\t|\t1 Bad, 2 Good, 3 Better, 4 Best\t|"
   ]
  },
  {
   "cell_type": "markdown",
   "metadata": {
    "id": "bKimk8qVm8oC"
   },
   "source": [
    "----"
   ]
  },
  {
   "cell_type": "markdown",
   "metadata": {
    "id": "0bouXLxGkSSd"
   },
   "source": [
    "## 1.가설수립"
   ]
  },
  {
   "cell_type": "markdown",
   "metadata": {
    "id": "nb3mes75kUSt"
   },
   "source": [
    "* 각 변수는 직원의 이직여부와 관계가 있을 것이다."
   ]
  },
  {
   "cell_type": "markdown",
   "metadata": {
    "id": "82xzJIZhnAaX"
   },
   "source": [
    "----"
   ]
  },
  {
   "cell_type": "markdown",
   "metadata": {
    "id": "1hYPpnplEedX"
   },
   "source": [
    "## 2.단변량 분석\n",
    "\n",
    "① 변수의 비즈니스 의미  \n",
    "\n",
    "② 숫자? 범주?  \n",
    "\n",
    "③ NaN 존재 여부 및 조치 방안  \n",
    "\n",
    "④ 기초통계량  \n",
    "\n",
    "⑤ 분포  \n",
    "\n",
    "⑥ 위 정보로부터 파악한 내용(비즈니스!) 정리  \n",
    "\n",
    "⑦ 추가 분석해볼 사항 도출"
   ]
  },
  {
   "cell_type": "markdown",
   "metadata": {
    "id": "ZghJJ7yLEpDA"
   },
   "source": [
    "## 3.이변량 분석 \n",
    "* 자료의 종류에 맞게 X --> Y 에 대해서 그래프(시각화)와 가설검정(수치화)를 수행하고 결과를 평가합니다.\n",
    "* 가설검정시 다음의 항목을 참조하여 수행합니다.\n",
    "    * 유의수준 : 5%\n",
    "    * 숫자 --> 숫자 : 상관분석\n",
    "    * 범주 --> 범주 : 카이제곱검정\n",
    "    * 범주 --> 숫자 : t검정, 분산분석\n",
    "    * 숫자 --> 범주 : 로지스틱 회귀모형을 통해, 회귀계수의 P.value로 검정을 수행합니다.\n",
    "* (옵션)자료에 대한 가정 검정.(정규성, 등분산성 등)"
   ]
  },
  {
   "cell_type": "code",
   "execution_count": 3,
   "metadata": {
    "ExecuteTime": {
     "end_time": "2022-05-16T08:32:33.720986Z",
     "start_time": "2022-05-16T08:32:33.707019Z"
    },
    "id": "tUUucWz3AuhR"
   },
   "outputs": [],
   "source": [
    "target = 'Attrition'"
   ]
  },
  {
   "cell_type": "markdown",
   "metadata": {
    "id": "fap08wfEMqtY"
   },
   "source": [
    "### (1) 범주형 Feature --> Target\n",
    "* 모든 범주형 Feature에 대해서 Y와 비교하여 차트를 그리고 수치화 하시오.  \n",
    "    ① 교차표(pd.crosstab())  \n",
    "    ② 시각화( Stacked Bar, Mosaic)  \n",
    "    ③ 가설검정(카이제곱검정)\n",
    "* 각 feature 별로 관계의 정도를 3가지로 정리해봅시다. "
   ]
  },
  {
   "cell_type": "markdown",
   "metadata": {
    "id": "6G2XVI7sklqQ"
   },
   "source": [
    "#### 1) Gender --> Attrtion"
   ]
  },
  {
   "cell_type": "code",
   "execution_count": 4,
   "metadata": {
    "ExecuteTime": {
     "end_time": "2022-05-16T08:32:33.736947Z",
     "start_time": "2022-05-16T08:32:33.726967Z"
    },
    "id": "EWXtZEr_X0ok"
   },
   "outputs": [],
   "source": [
    "feature = 'Gender'"
   ]
  },
  {
   "cell_type": "markdown",
   "metadata": {
    "id": "sq4qjPyrXkS3"
   },
   "source": [
    "① 교차표(pd.crosstab())"
   ]
  },
  {
   "cell_type": "code",
   "execution_count": 5,
   "metadata": {
    "ExecuteTime": {
     "end_time": "2022-05-16T08:32:33.814739Z",
     "start_time": "2022-05-16T08:32:33.746925Z"
    },
    "id": "qkS8v_BxX3Gk"
   },
   "outputs": [
    {
     "data": {
      "text/html": [
       "<div>\n",
       "<style scoped>\n",
       "    .dataframe tbody tr th:only-of-type {\n",
       "        vertical-align: middle;\n",
       "    }\n",
       "\n",
       "    .dataframe tbody tr th {\n",
       "        vertical-align: top;\n",
       "    }\n",
       "\n",
       "    .dataframe thead th {\n",
       "        text-align: right;\n",
       "    }\n",
       "</style>\n",
       "<table border=\"1\" class=\"dataframe\">\n",
       "  <thead>\n",
       "    <tr style=\"text-align: right;\">\n",
       "      <th>Gender</th>\n",
       "      <th>Female</th>\n",
       "      <th>Male</th>\n",
       "    </tr>\n",
       "    <tr>\n",
       "      <th>Attrition</th>\n",
       "      <th></th>\n",
       "      <th></th>\n",
       "    </tr>\n",
       "  </thead>\n",
       "  <tbody>\n",
       "    <tr>\n",
       "      <th>0</th>\n",
       "      <td>421</td>\n",
       "      <td>629</td>\n",
       "    </tr>\n",
       "    <tr>\n",
       "      <th>1</th>\n",
       "      <td>69</td>\n",
       "      <td>131</td>\n",
       "    </tr>\n",
       "  </tbody>\n",
       "</table>\n",
       "</div>"
      ],
      "text/plain": [
       "Gender     Female  Male\n",
       "Attrition              \n",
       "0             421   629\n",
       "1              69   131"
      ]
     },
     "execution_count": 5,
     "metadata": {},
     "output_type": "execute_result"
    }
   ],
   "source": [
    "pd.crosstab(data[target], data[feature])"
   ]
  },
  {
   "cell_type": "markdown",
   "metadata": {
    "id": "s2QiOyPmZ1Sy"
   },
   "source": [
    "② 시각화( Stacked Bar, Mosaic)"
   ]
  },
  {
   "cell_type": "code",
   "execution_count": 6,
   "metadata": {
    "ExecuteTime": {
     "end_time": "2022-05-16T08:32:34.081076Z",
     "start_time": "2022-05-16T08:32:33.821712Z"
    },
    "id": "eLZgTrQqYciB"
   },
   "outputs": [
    {
     "name": "stdout",
     "output_type": "stream",
     "text": [
      "Gender       Female      Male\n",
      "Attrition                    \n",
      "0          0.400952  0.599048\n",
      "1          0.345000  0.655000\n"
     ]
    },
    {
     "data": {
      "image/png": "[encoded data removed]",
      "text/plain": [
       "<Figure size 432x288 with 1 Axes>"
      ]
     },
     "metadata": {
      "needs_background": "light"
     },
     "output_type": "display_data"
    }
   ],
   "source": [
    "temp = pd.crosstab(data[target], data[feature], normalize = 'index')\n",
    "print(temp)\n",
    "temp.plot.bar(stacked=True)\n",
    "plt.axhline(1 - data[target].mean(), color = 'r')\n",
    "plt.show()"
   ]
  },
  {
   "cell_type": "code",
   "execution_count": 7,
   "metadata": {
    "ExecuteTime": {
     "end_time": "2022-05-16T08:32:34.255659Z",
     "start_time": "2022-05-16T08:32:34.084072Z"
    },
    "id": "RVjIC6RsaQfv"
   },
   "outputs": [
    {
     "data": {
      "image/png": "[encoded data removed]",
      "text/plain": [
       "<Figure size 432x288 with 3 Axes>"
      ]
     },
     "metadata": {
      "needs_background": "light"
     },
     "output_type": "display_data"
    }
   ],
   "source": [
    "mosaic(data, [feature,target])\n",
    "plt.axhline(1 - data[target].mean(), color = 'r')\n",
    "plt.show()"
   ]
  },
  {
   "cell_type": "markdown",
   "metadata": {
    "id": "V1pyYZ3ibCyO"
   },
   "source": [
    "시각화를 통해 파악한 내용을 적어 봅시다."
   ]
  },
  {
   "cell_type": "markdown",
   "metadata": {
    "id": "ACUmG-fj_k9m"
   },
   "source": [
    "남성이 여성보다 이직률이 높음을 알 수 있음.  \n",
    "전체 직원의 성별을 비교해보면 남성 근무자가 더 많음을 알 수 있음."
   ]
  },
  {
   "cell_type": "markdown",
   "metadata": {
    "id": "8MX4b9jZbGal"
   },
   "source": [
    "③ 가설검정(카이제곱검정)"
   ]
  },
  {
   "cell_type": "code",
   "execution_count": 8,
   "metadata": {
    "ExecuteTime": {
     "end_time": "2022-05-16T08:32:34.301706Z",
     "start_time": "2022-05-16T08:32:34.259647Z"
    },
    "id": "ZIhdTgsSnE_P"
   },
   "outputs": [
    {
     "name": "stdout",
     "output_type": "stream",
     "text": [
      "교차표\n",
      " Gender     Female  Male\n",
      "Attrition              \n",
      "0             421   629\n",
      "1              69   131\n",
      "----------------------------------------------------------------------------------------------------\n",
      "카이제곱통계량 1.9782495940105371\n",
      "p-value 0.15957492990528155\n",
      "기대빈도\n",
      " [[411.6 638.4]\n",
      " [ 78.4 121.6]]\n"
     ]
    }
   ],
   "source": [
    "# 집계\n",
    "table = pd.crosstab(data[target], data[feature])\n",
    "print('교차표\\n', table)\n",
    "print('-' * 100)\n",
    "\n",
    "# 카이제곱검정\n",
    "result = spst.chi2_contingency(table)\n",
    "print('카이제곱통계량', result[0])\n",
    "print('p-value', result[1])\n",
    "print('기대빈도\\n',result[3])"
   ]
  },
  {
   "cell_type": "markdown",
   "metadata": {
    "id": "wuH_fPA6bTE1"
   },
   "source": [
    "④ 시각화와 가설검정을 통해서 파악한 내용을 적어 봅시다."
   ]
  },
  {
   "cell_type": "markdown",
   "metadata": {
    "id": "w0z8Jopd_neN"
   },
   "source": [
    "- 시각화와 수치화로 보았을 때 성별에 따른 이직여부의 관계는 존재한다.  \n",
    "    * 여성이 남성보다 이직률이 낮은 이유는 기업의 복지가 좋아서일 수 있음. EX육아휴직 등  \n",
    "    * 반대로 남성의 이직률이 높은 것은 복지가 좋더라도 기대에 못 미치는 연봉때문일 수 있음."
   ]
  },
  {
   "cell_type": "markdown",
   "metadata": {
    "id": "Dh2UW7_S-yoq"
   },
   "source": [
    "#### 2) MaritalStatus --> Attrtion"
   ]
  },
  {
   "cell_type": "code",
   "execution_count": 9,
   "metadata": {
    "ExecuteTime": {
     "end_time": "2022-05-16T08:32:34.316858Z",
     "start_time": "2022-05-16T08:32:34.303611Z"
    },
    "id": "f1VqOTCI_r5B"
   },
   "outputs": [],
   "source": [
    "feature = 'MaritalStatus'"
   ]
  },
  {
   "cell_type": "markdown",
   "metadata": {
    "id": "_pZCSo7a_r5B"
   },
   "source": [
    "① 교차표(pd.crosstab())"
   ]
  },
  {
   "cell_type": "code",
   "execution_count": 10,
   "metadata": {
    "ExecuteTime": {
     "end_time": "2022-05-16T08:32:34.347794Z",
     "start_time": "2022-05-16T08:32:34.321844Z"
    },
    "id": "cxeF94rX_r5B"
   },
   "outputs": [
    {
     "data": {
      "text/html": [
       "<div>\n",
       "<style scoped>\n",
       "    .dataframe tbody tr th:only-of-type {\n",
       "        vertical-align: middle;\n",
       "    }\n",
       "\n",
       "    .dataframe tbody tr th {\n",
       "        vertical-align: top;\n",
       "    }\n",
       "\n",
       "    .dataframe thead th {\n",
       "        text-align: right;\n",
       "    }\n",
       "</style>\n",
       "<table border=\"1\" class=\"dataframe\">\n",
       "  <thead>\n",
       "    <tr style=\"text-align: right;\">\n",
       "      <th>Attrition</th>\n",
       "      <th>0</th>\n",
       "      <th>1</th>\n",
       "    </tr>\n",
       "    <tr>\n",
       "      <th>MaritalStatus</th>\n",
       "      <th></th>\n",
       "      <th></th>\n",
       "    </tr>\n",
       "  </thead>\n",
       "  <tbody>\n",
       "    <tr>\n",
       "      <th>Divorced</th>\n",
       "      <td>253</td>\n",
       "      <td>23</td>\n",
       "    </tr>\n",
       "    <tr>\n",
       "      <th>Married</th>\n",
       "      <td>501</td>\n",
       "      <td>69</td>\n",
       "    </tr>\n",
       "    <tr>\n",
       "      <th>Single</th>\n",
       "      <td>296</td>\n",
       "      <td>108</td>\n",
       "    </tr>\n",
       "  </tbody>\n",
       "</table>\n",
       "</div>"
      ],
      "text/plain": [
       "Attrition        0    1\n",
       "MaritalStatus          \n",
       "Divorced       253   23\n",
       "Married        501   69\n",
       "Single         296  108"
      ]
     },
     "execution_count": 10,
     "metadata": {},
     "output_type": "execute_result"
    }
   ],
   "source": [
    "pd.crosstab(data[feature], data[target])"
   ]
  },
  {
   "cell_type": "markdown",
   "metadata": {
    "id": "inJiW9SV_r5B"
   },
   "source": [
    "② 시각화( Stacked Bar, Mosaic)"
   ]
  },
  {
   "cell_type": "code",
   "execution_count": 11,
   "metadata": {
    "ExecuteTime": {
     "end_time": "2022-05-16T08:32:34.505147Z",
     "start_time": "2022-05-16T08:32:34.351437Z"
    },
    "id": "6kNlRTmg_r5B"
   },
   "outputs": [
    {
     "name": "stdout",
     "output_type": "stream",
     "text": [
      "Attrition             0         1\n",
      "MaritalStatus                    \n",
      "Divorced       0.916667  0.083333\n",
      "Married        0.878947  0.121053\n",
      "Single         0.732673  0.267327\n"
     ]
    },
    {
     "data": {
      "image/png": "[encoded data removed]",
      "text/plain": [
       "<Figure size 432x288 with 1 Axes>"
      ]
     },
     "metadata": {
      "needs_background": "light"
     },
     "output_type": "display_data"
    }
   ],
   "source": [
    "temp = pd.crosstab(data[feature], data[target], normalize = 'index')\n",
    "print(temp)\n",
    "temp.plot.bar(stacked = True)\n",
    "plt.axhline(1 - data[target].mean(), color = 'r')\n",
    "plt.show()"
   ]
  },
  {
   "cell_type": "code",
   "execution_count": 12,
   "metadata": {
    "ExecuteTime": {
     "end_time": "2022-05-16T08:32:34.673562Z",
     "start_time": "2022-05-16T08:32:34.507789Z"
    },
    "id": "Ao19t9rI_r5C"
   },
   "outputs": [
    {
     "data": {
      "image/png": "[encoded data removed]",
      "text/plain": [
       "<Figure size 432x288 with 3 Axes>"
      ]
     },
     "metadata": {
      "needs_background": "light"
     },
     "output_type": "display_data"
    }
   ],
   "source": [
    "mosaic(data, [feature,target])\n",
    "plt.axhline(1 - data[target].mean(), color = 'r')\n",
    "plt.show()"
   ]
  },
  {
   "cell_type": "markdown",
   "metadata": {
    "id": "IERZck_i_r5C"
   },
   "source": [
    "시각화를 통해 파악한 내용을 적어 봅시다."
   ]
  },
  {
   "cell_type": "markdown",
   "metadata": {
    "id": "8qA_MXni_r5C"
   },
   "source": [
    "- 결혼 상태에 따른 이직률의 차이가 존재함을 알 수 있음.  \n",
    "    * 특히 미혼일수록 이직률이 높음을 알 수 있음.  \n",
    "    * 반면 결혼하거나 이혼경력이 있는 이들의 경우 이직률의 비율이 다른 결혼 상태에 비해 상대적으로 낮음을 볼 수 있음."
   ]
  },
  {
   "cell_type": "markdown",
   "metadata": {
    "id": "PHuRBzO-_r5C"
   },
   "source": [
    "③ 가설검정(카이제곱검정)"
   ]
  },
  {
   "cell_type": "code",
   "execution_count": 13,
   "metadata": {
    "ExecuteTime": {
     "end_time": "2022-05-16T08:32:34.704662Z",
     "start_time": "2022-05-16T08:32:34.675483Z"
    },
    "id": "a8M7jekD_r5C"
   },
   "outputs": [
    {
     "name": "stdout",
     "output_type": "stream",
     "text": [
      "교차표\n",
      " Attrition        0    1\n",
      "MaritalStatus          \n",
      "Divorced       253   23\n",
      "Married        501   69\n",
      "Single         296  108\n",
      "----------------------------------------------------------------------------------------------------\n",
      "카이제곱통계량 53.12935546374186\n",
      "p-value 2.9047385436211595e-12\n",
      "기대빈도\n",
      " [[231.84  44.16]\n",
      " [478.8   91.2 ]\n",
      " [339.36  64.64]]\n"
     ]
    }
   ],
   "source": [
    "# 집계\n",
    "table = pd.crosstab(data[feature], data[target])\n",
    "print('교차표\\n', table)\n",
    "print('-' * 100)\n",
    "\n",
    "# 카이제곱검정\n",
    "result = spst.chi2_contingency(table)\n",
    "print('카이제곱통계량', result[0])\n",
    "print('p-value', result[1])\n",
    "print('기대빈도\\n',result[3])"
   ]
  },
  {
   "cell_type": "markdown",
   "metadata": {
    "id": "bti4jVny_r5C"
   },
   "source": [
    "④ 시각화와 가설검정을 통해서 파악한 내용을 적어 봅시다."
   ]
  },
  {
   "cell_type": "markdown",
   "metadata": {
    "id": "jhaf5V6u_r5C"
   },
   "source": [
    "- 시각화와 가설검정 모두 결혼상태에 따른 이직률에 관계가 있는 것을 확인할 수 있음.\n",
    "    * 앞서 언급한 것처럼 결혼을 하거나 이혼 경력이 있는 이들의 비율이 미혼인 이들보다 상대적으로 이직률이 낮음을 볼 수 있는데, 이는 결혼한 상태로 더 안정적인 직장을 원하는 경향이 반영된 것으로 보임.  \n",
    "    * 결혼한 이들과 이혼경력이 있는 이들의 이직 성향이 비슷하기 때문에 미혼인 이들의 이직의 대한 원인이 연봉에 있는 것인지, 아니면 개인으로서 받을 수 있는 회사 복지에 대한 문제인지 파악할 필요가 있음."
   ]
  },
  {
   "cell_type": "markdown",
   "metadata": {
    "id": "4UMjF0sTkr-4"
   },
   "source": [
    "#### 3) JobSatisfaction --> Attrtion"
   ]
  },
  {
   "cell_type": "code",
   "execution_count": 14,
   "metadata": {
    "ExecuteTime": {
     "end_time": "2022-05-16T08:32:34.720477Z",
     "start_time": "2022-05-16T08:32:34.707575Z"
    },
    "id": "_peBfhAt_yBV"
   },
   "outputs": [],
   "source": [
    "feature = 'JobSatisfaction'"
   ]
  },
  {
   "cell_type": "markdown",
   "metadata": {
    "id": "_qfv5Ezt_yBV"
   },
   "source": [
    "① 교차표(pd.crosstab())"
   ]
  },
  {
   "cell_type": "code",
   "execution_count": 15,
   "metadata": {
    "ExecuteTime": {
     "end_time": "2022-05-16T08:32:34.750690Z",
     "start_time": "2022-05-16T08:32:34.722434Z"
    },
    "id": "9yW_UhAh_yBV"
   },
   "outputs": [
    {
     "data": {
      "text/html": [
       "<div>\n",
       "<style scoped>\n",
       "    .dataframe tbody tr th:only-of-type {\n",
       "        vertical-align: middle;\n",
       "    }\n",
       "\n",
       "    .dataframe tbody tr th {\n",
       "        vertical-align: top;\n",
       "    }\n",
       "\n",
       "    .dataframe thead th {\n",
       "        text-align: right;\n",
       "    }\n",
       "</style>\n",
       "<table border=\"1\" class=\"dataframe\">\n",
       "  <thead>\n",
       "    <tr style=\"text-align: right;\">\n",
       "      <th>Attrition</th>\n",
       "      <th>0</th>\n",
       "      <th>1</th>\n",
       "    </tr>\n",
       "    <tr>\n",
       "      <th>JobSatisfaction</th>\n",
       "      <th></th>\n",
       "      <th></th>\n",
       "    </tr>\n",
       "  </thead>\n",
       "  <tbody>\n",
       "    <tr>\n",
       "      <th>1</th>\n",
       "      <td>197</td>\n",
       "      <td>53</td>\n",
       "    </tr>\n",
       "    <tr>\n",
       "      <th>2</th>\n",
       "      <td>196</td>\n",
       "      <td>39</td>\n",
       "    </tr>\n",
       "    <tr>\n",
       "      <th>3</th>\n",
       "      <td>308</td>\n",
       "      <td>60</td>\n",
       "    </tr>\n",
       "    <tr>\n",
       "      <th>4</th>\n",
       "      <td>349</td>\n",
       "      <td>48</td>\n",
       "    </tr>\n",
       "  </tbody>\n",
       "</table>\n",
       "</div>"
      ],
      "text/plain": [
       "Attrition          0   1\n",
       "JobSatisfaction         \n",
       "1                197  53\n",
       "2                196  39\n",
       "3                308  60\n",
       "4                349  48"
      ]
     },
     "execution_count": 15,
     "metadata": {},
     "output_type": "execute_result"
    }
   ],
   "source": [
    "pd.crosstab(data[feature], data[target])"
   ]
  },
  {
   "cell_type": "markdown",
   "metadata": {
    "id": "XvueCs4A_yBV"
   },
   "source": [
    "② 시각화( Stacked Bar, Mosaic)"
   ]
  },
  {
   "cell_type": "code",
   "execution_count": 16,
   "metadata": {
    "ExecuteTime": {
     "end_time": "2022-05-16T08:32:34.971766Z",
     "start_time": "2022-05-16T08:32:34.753501Z"
    },
    "id": "80mI_jTj_yBV"
   },
   "outputs": [
    {
     "name": "stdout",
     "output_type": "stream",
     "text": [
      "Attrition               0         1\n",
      "JobSatisfaction                    \n",
      "1                0.788000  0.212000\n",
      "2                0.834043  0.165957\n",
      "3                0.836957  0.163043\n",
      "4                0.879093  0.120907\n"
     ]
    },
    {
     "data": {
      "image/png": "[encoded data removed]",
      "text/plain": [
       "<Figure size 432x288 with 1 Axes>"
      ]
     },
     "metadata": {
      "needs_background": "light"
     },
     "output_type": "display_data"
    }
   ],
   "source": [
    "temp = pd.crosstab(data[feature], data[target], normalize = 'index')\n",
    "print(temp)\n",
    "temp.plot.bar(stacked=True)\n",
    "plt.axhline(1 - data[target].mean(), color = 'r')\n",
    "plt.show()"
   ]
  },
  {
   "cell_type": "code",
   "execution_count": 17,
   "metadata": {
    "ExecuteTime": {
     "end_time": "2022-05-16T08:32:35.143372Z",
     "start_time": "2022-05-16T08:32:34.974436Z"
    },
    "id": "FGoJyvWe_yBV"
   },
   "outputs": [
    {
     "data": {
      "image/png": "[encoded data removed]",
      "text/plain": [
       "<Figure size 432x288 with 3 Axes>"
      ]
     },
     "metadata": {
      "needs_background": "light"
     },
     "output_type": "display_data"
    }
   ],
   "source": [
    "mosaic(data, [feature,target])\n",
    "plt.axhline(1 - data[target].mean(), color = 'r')\n",
    "plt.show()"
   ]
  },
  {
   "cell_type": "markdown",
   "metadata": {
    "id": "l19m7PVj_yBV"
   },
   "source": [
    "시각화를 통해 파악한 내용을 적어 봅시다."
   ]
  },
  {
   "cell_type": "markdown",
   "metadata": {
    "id": "Kw-ymp-A_yBV"
   },
   "source": [
    "- 직업 만족도에 따라 이직률의 차이가 있음을 확인할 수 있음.\n",
    "    * 직업 만족도가 제일 낮은 1의 경우 이직률의 비율이 다른 만족도보다 높음.  \n",
    "    * 직업 만족도가 제일 높은 4의 경우 이직률의 비율이 다른 만족도보다 낮음.\n",
    "    * 전체 만족도의 비율을 확인했을 때 업무 만족도가 높은(3, 4)의 비율이 약 과반을 넘음.\n",
    "    * 그러나 전체 만족도의 비율 중 만족도가 낮은(1, 2)의 비율도 적지 않음."
   ]
  },
  {
   "cell_type": "markdown",
   "metadata": {
    "id": "Hf0uQHFM_yBW"
   },
   "source": [
    "③ 가설검정(카이제곱검정)"
   ]
  },
  {
   "cell_type": "code",
   "execution_count": 18,
   "metadata": {
    "ExecuteTime": {
     "end_time": "2022-05-16T08:32:35.174399Z",
     "start_time": "2022-05-16T08:32:35.145370Z"
    },
    "id": "fXelPXVx_yBW"
   },
   "outputs": [
    {
     "name": "stdout",
     "output_type": "stream",
     "text": [
      "교차표\n",
      " Attrition          0   1\n",
      "JobSatisfaction         \n",
      "1                197  53\n",
      "2                196  39\n",
      "3                308  60\n",
      "4                349  48\n",
      "----------------------------------------------------------------------------------------------------\n",
      "카이제곱통계량 9.63151465436614\n",
      "p-value 0.021972649369306214\n",
      "기대빈도\n",
      " [[210.    40.  ]\n",
      " [197.4   37.6 ]\n",
      " [309.12  58.88]\n",
      " [333.48  63.52]]\n"
     ]
    }
   ],
   "source": [
    "# 집계\n",
    "table = pd.crosstab(data[feature], data[target])\n",
    "print('교차표\\n', table)\n",
    "print('-' * 100)\n",
    "\n",
    "# 카이제곱검정\n",
    "result = spst.chi2_contingency(table)\n",
    "print('카이제곱통계량', result[0])\n",
    "print('p-value', result[1])\n",
    "print('기대빈도\\n',result[3])"
   ]
  },
  {
   "cell_type": "markdown",
   "metadata": {
    "id": "zpSXwBg5_yBW"
   },
   "source": [
    "④ 시각화와 가설검정을 통해서 파악한 내용을 적어 봅시다."
   ]
  },
  {
   "cell_type": "markdown",
   "metadata": {
    "id": "lhX0s1u6_yBW"
   },
   "source": [
    "- 직업만족도에 따른 이직률의 차이가 있음을 확인할 수 있음.\n",
    "    * 전체 만족도를 높은편(3, 4), 낮은편(1, 2)로 보았을 때 둘의 비율이 크게 차이 나지 않음.\n",
    "    * 따라서 업무 만족도를 높이기 위한 방안이 필요해 보임."
   ]
  },
  {
   "cell_type": "markdown",
   "metadata": {
    "id": "lUsQ0iBHMqte"
   },
   "source": [
    "### (2) 숫자형 Feature --> target\n",
    "\n",
    "* 숫자형 Feature에 대해서 Y와 비교하여 차트를 그리고 수치화 하시오.  \n",
    "    ① 그래프 : histogram, densityplot   \n",
    "    ② 수치화 : 로지스틱회귀"
   ]
  },
  {
   "cell_type": "markdown",
   "metadata": {
    "id": "F_Mugk3f_y3X"
   },
   "source": [
    "#### 1) Age --> Attrtion\n"
   ]
  },
  {
   "cell_type": "code",
   "execution_count": 19,
   "metadata": {
    "ExecuteTime": {
     "end_time": "2022-05-16T08:32:35.189336Z",
     "start_time": "2022-05-16T08:32:35.176361Z"
    },
    "id": "8ROLKtUueHSn"
   },
   "outputs": [],
   "source": [
    "feature = 'Age'"
   ]
  },
  {
   "cell_type": "markdown",
   "metadata": {
    "id": "iZwchGY8eRH_"
   },
   "source": [
    "① 그래프 : histogram, densityplot"
   ]
  },
  {
   "cell_type": "code",
   "execution_count": 20,
   "metadata": {
    "ExecuteTime": {
     "end_time": "2022-05-16T08:32:35.425931Z",
     "start_time": "2022-05-16T08:32:35.192359Z"
    },
    "id": "Kdch3Zm-Mqtg"
   },
   "outputs": [
    {
     "data": {
      "image/png": "[encoded data removed]",
      "text/plain": [
       "<Figure size 432x288 with 1 Axes>"
      ]
     },
     "metadata": {
      "needs_background": "light"
     },
     "output_type": "display_data"
    }
   ],
   "source": [
    "sns.histplot(x=feature, data = data, hue = target)\n",
    "plt.show()"
   ]
  },
  {
   "cell_type": "code",
   "execution_count": 21,
   "metadata": {
    "ExecuteTime": {
     "end_time": "2022-05-16T08:32:35.582615Z",
     "start_time": "2022-05-16T08:32:35.427888Z"
    },
    "id": "NFpqDUZEemhq"
   },
   "outputs": [
    {
     "data": {
      "image/png": "[encoded data removed]",
      "text/plain": [
       "<Figure size 432x288 with 1 Axes>"
      ]
     },
     "metadata": {
      "needs_background": "light"
     },
     "output_type": "display_data"
    }
   ],
   "source": [
    "sns.kdeplot(x=feature, data = data, hue = target, common_norm = False)\n",
    "plt.show()"
   ]
  },
  {
   "cell_type": "markdown",
   "metadata": {
    "id": "62LpmfYBfADw"
   },
   "source": [
    "시각화를 통해 파악한 내용을 적어 봅시다."
   ]
  },
  {
   "cell_type": "markdown",
   "metadata": {
    "id": "rPbprP0NfADx"
   },
   "source": [
    "> 연령대에 따른 이직률의 관계가 보임  \n",
    "    - 20대 중반부터 30대 중반까지의 이직률이 높게 분포해 있음을 알 수 있음.  \n",
    "    - 40대 역시 전후 나이대보다 높은 이직률을 보임.  \n",
    "    - 이후 높은 연령대에서의 이직률은 점차 감소함"
   ]
  },
  {
   "cell_type": "markdown",
   "metadata": {
    "id": "AMOh1uw2fVoO"
   },
   "source": [
    "② 수치화 : 로지스틱회귀"
   ]
  },
  {
   "cell_type": "code",
   "execution_count": 22,
   "metadata": {
    "ExecuteTime": {
     "end_time": "2022-05-16T08:32:35.613360Z",
     "start_time": "2022-05-16T08:32:35.585433Z"
    },
    "id": "B-kCeQE5G_NU"
   },
   "outputs": [
    {
     "name": "stdout",
     "output_type": "stream",
     "text": [
      "Optimization terminated successfully.\n",
      "         Current function value: 0.424660\n",
      "         Iterations 5\n",
      "Age    4.667821e-100\n",
      "dtype: float64\n"
     ]
    }
   ],
   "source": [
    "model = sm.Logit(data[target], data[feature])\n",
    "result = model.fit()\n",
    "print(result.pvalues)"
   ]
  },
  {
   "cell_type": "markdown",
   "metadata": {
    "id": "1QGY11sufcJ1"
   },
   "source": [
    "③ 시각화와 수치화를 통해 파악한 내용을 적어 봅시다."
   ]
  },
  {
   "cell_type": "markdown",
   "metadata": {
    "id": "iRgq5a36fhGD"
   },
   "source": [
    "-  연령대에 따른 이직률의 관계가 존재함.  \n",
    "    * 20대 중반부터 30대 중반의 연령대는 회사에서 실무를 담당하는 인재들임. \n",
    "    * 그런데 이들의 이직률이 고르고 높게 분포되어 있다는 것은 주변 회사에서 더 높은 연봉을 제시해 스카웃해가는 것이라 볼 수 있음. \n",
    "    * 또한 40대의 경우 회사의 중역을 맡는 관리자 급이기 때문에 타 회사에 역시 스카웃 제의가 올 확률이 높음."
   ]
  },
  {
   "cell_type": "markdown",
   "metadata": {
    "id": "UVjP9xEt2pVn"
   },
   "source": [
    "#### 2) DistanceFromHome --> Attrtion\n"
   ]
  },
  {
   "cell_type": "code",
   "execution_count": 23,
   "metadata": {
    "ExecuteTime": {
     "end_time": "2022-05-16T08:32:35.629326Z",
     "start_time": "2022-05-16T08:32:35.615353Z"
    },
    "id": "2cSWvoFm2pVn"
   },
   "outputs": [],
   "source": [
    "feature = 'DistanceFromHome'\n",
    "temp = data.loc[data[feature].notnull()]"
   ]
  },
  {
   "cell_type": "markdown",
   "metadata": {
    "id": "12AvE3o22pVn"
   },
   "source": [
    "① 그래프 : histogram, densityplot"
   ]
  },
  {
   "cell_type": "code",
   "execution_count": 24,
   "metadata": {
    "ExecuteTime": {
     "end_time": "2022-05-16T08:32:35.898656Z",
     "start_time": "2022-05-16T08:32:35.631310Z"
    },
    "id": "ae6yrGJm2pVn"
   },
   "outputs": [
    {
     "data": {
      "image/png": "[encoded data removed]",
      "text/plain": [
       "<Figure size 432x288 with 1 Axes>"
      ]
     },
     "metadata": {
      "needs_background": "light"
     },
     "output_type": "display_data"
    }
   ],
   "source": [
    "sns.histplot(x=feature, data = temp, hue = target)\n",
    "plt.show()"
   ]
  },
  {
   "cell_type": "code",
   "execution_count": 25,
   "metadata": {
    "ExecuteTime": {
     "end_time": "2022-05-16T08:32:36.073729Z",
     "start_time": "2022-05-16T08:32:35.900653Z"
    },
    "id": "aXAopTJo2pVo"
   },
   "outputs": [
    {
     "data": {
      "image/png": "[encoded data removed]",
      "text/plain": [
       "<Figure size 432x288 with 1 Axes>"
      ]
     },
     "metadata": {
      "needs_background": "light"
     },
     "output_type": "display_data"
    }
   ],
   "source": [
    "sns.kdeplot(x=feature, data = temp, hue = target, common_norm = False)\n",
    "plt.show()"
   ]
  },
  {
   "cell_type": "markdown",
   "metadata": {
    "id": "dPYSWkrN2pVo"
   },
   "source": [
    "시각화를 통해 파악한 내용을 적어 봅시다."
   ]
  },
  {
   "cell_type": "markdown",
   "metadata": {
    "id": "2B7I0LWz2pVo"
   },
   "source": [
    "- 거주지에서 직장으로부터의 거리가 짧을수록 이직률이 낮음을 알 수 있음.\n",
    "    * 대체적으로 직장에서 거주지로부터의 거리가 15 이하에 많이 분포되어 있음\n",
    "    - 그러나 15 ~ 25 처럼 점점 회사에서 거주지가 멀어질수록 이직하는 비율도 높아짐.\n",
    "    - 이후 완전 멀리 있는 25 이후 부터는 이직률이 다시 감소함 (가족들과 사는 직원일 수 있음)"
   ]
  },
  {
   "cell_type": "markdown",
   "metadata": {
    "id": "HTZsXn1O2pVo"
   },
   "source": [
    "② 수치화 : 로지스틱회귀"
   ]
  },
  {
   "cell_type": "code",
   "execution_count": 26,
   "metadata": {
    "ExecuteTime": {
     "end_time": "2022-05-16T08:32:36.089652Z",
     "start_time": "2022-05-16T08:32:36.075695Z"
    },
    "id": "DkhOHKkE2pVo"
   },
   "outputs": [
    {
     "name": "stdout",
     "output_type": "stream",
     "text": [
      "Optimization terminated successfully.\n",
      "         Current function value: 0.568793\n",
      "         Iterations 6\n",
      "DistanceFromHome    2.694280e-44\n",
      "dtype: float64\n"
     ]
    }
   ],
   "source": [
    "temp = data.loc[data[feature].notnull()]\n",
    "model = sm.Logit(temp[target], temp[feature])\n",
    "result = model.fit()\n",
    "print(result.pvalues)"
   ]
  },
  {
   "cell_type": "markdown",
   "metadata": {
    "id": "UQqPhZwj2pVp"
   },
   "source": [
    "#### ③ 시각화와 수치화를 통해 파악한 내용을 적어 봅시다."
   ]
  },
  {
   "cell_type": "markdown",
   "metadata": {
    "id": "1tHzXavD2pVp"
   },
   "source": [
    "- 거주지에서 직장으로부터의 거리가 짧을 수록 이직률이 낮음을 알 수 있음.\n",
    "    * 전체 직원중 매우 가까이 살고 있는 직원들이 많기 때문에 회사에서 따로 제공하는 기숙사가 존재할 수도 있음. \n",
    "    * 그렇지 않은 이들의 경우 주로 이직률이 높은 15 ~ 20만큼의 거리에 있는 거주지에 지내고 있을 확률도 있음.  \n",
    "    * 또한 많이 떨어진 곳에 살고 있는 이들의 이직률은 낮은데 이는 가족 구성원(자녀 학교 등) 때문에 그런 것일 수 있음.  "
   ]
  },
  {
   "cell_type": "markdown",
   "metadata": {
    "id": "CfOiGI1D2pne"
   },
   "source": [
    "#### 3) MonthlyIncome --> Attrtion\n"
   ]
  },
  {
   "cell_type": "code",
   "execution_count": 27,
   "metadata": {
    "ExecuteTime": {
     "end_time": "2022-05-16T08:32:36.105611Z",
     "start_time": "2022-05-16T08:32:36.092645Z"
    },
    "id": "bWI2_CoG2pne"
   },
   "outputs": [],
   "source": [
    "feature = 'MonthlyIncome'"
   ]
  },
  {
   "cell_type": "markdown",
   "metadata": {
    "id": "46AmWboJ2pne"
   },
   "source": [
    "① 그래프 : histogram, densityplot"
   ]
  },
  {
   "cell_type": "code",
   "execution_count": 28,
   "metadata": {
    "ExecuteTime": {
     "end_time": "2022-05-16T08:32:36.454072Z",
     "start_time": "2022-05-16T08:32:36.110597Z"
    },
    "id": "iTC2a2xk2pnf"
   },
   "outputs": [
    {
     "data": {
      "image/png": "[encoded data removed]",
      "text/plain": [
       "<Figure size 432x288 with 1 Axes>"
      ]
     },
     "metadata": {
      "needs_background": "light"
     },
     "output_type": "display_data"
    }
   ],
   "source": [
    "sns.histplot(x = feature, data = data, hue = target)\n",
    "plt.show()"
   ]
  },
  {
   "cell_type": "code",
   "execution_count": 29,
   "metadata": {
    "ExecuteTime": {
     "end_time": "2022-05-16T08:32:36.720341Z",
     "start_time": "2022-05-16T08:32:36.463054Z"
    },
    "id": "Ad2R9A4Z2pnf"
   },
   "outputs": [
    {
     "data": {
      "image/png": "[encoded data removed]",
      "text/plain": [
       "<Figure size 432x288 with 1 Axes>"
      ]
     },
     "metadata": {
      "needs_background": "light"
     },
     "output_type": "display_data"
    }
   ],
   "source": [
    "sns.kdeplot(x = feature, data = data, hue = target, common_norm = False)\n",
    "plt.show()"
   ]
  },
  {
   "cell_type": "markdown",
   "metadata": {
    "id": "Qswvfv372pnf"
   },
   "source": [
    "시각화를 통해 파악한 내용을 적어 봅시다."
   ]
  },
  {
   "cell_type": "markdown",
   "metadata": {
    "id": "ttreuzSW2pnf"
   },
   "source": [
    "- 월별 소득이 낮은 (0 ~ 3000) 구간의 이직률이 매우 높음을 알 수 있음.  \n",
    "    * 또한 5000~ 10000대 구간 역시 관리자 급들이 분포하고 있는 구간으로 추측 가능하며 경쟁사의 스카웃 제의가 들어올 가능성이 높음. \n",
    "    * 고액의 연봉을 받는 임원일수록 이직률이 기하급수적으로 낮아짐."
   ]
  },
  {
   "cell_type": "markdown",
   "metadata": {
    "id": "nrtejCDB2pnf"
   },
   "source": [
    "② 수치화 : 로지스틱회귀"
   ]
  },
  {
   "cell_type": "code",
   "execution_count": 30,
   "metadata": {
    "ExecuteTime": {
     "end_time": "2022-05-16T08:32:36.752248Z",
     "start_time": "2022-05-16T08:32:36.726352Z"
    },
    "id": "_Aq9dIe-2pnf"
   },
   "outputs": [
    {
     "name": "stdout",
     "output_type": "stream",
     "text": [
      "Optimization terminated successfully.\n",
      "         Current function value: 0.437401\n",
      "         Iterations 6\n",
      "MonthlyIncome    1.922717e-71\n",
      "dtype: float64\n"
     ]
    }
   ],
   "source": [
    "model = sm.Logit(data[target], data[feature])\n",
    "result = model.fit()\n",
    "print(result.pvalues)"
   ]
  },
  {
   "cell_type": "markdown",
   "metadata": {
    "id": "l3VRFhdD2pnf"
   },
   "source": [
    "③ 시각화와 수치화를 통해 파악한 내용을 적어 봅시다."
   ]
  },
  {
   "cell_type": "markdown",
   "metadata": {
    "id": "lk-gTxwk2pnf"
   },
   "source": [
    "- 이직률과 월급 간에는 관계가 존재한다.  \n",
    "    * 월급이 매우 적은 구간이 보이는데, 혹시 회사 환경관리를 해주는 청소부분들의 연봉도 포함인건지 확인해 봐야함.\n",
    "    * 신입부터 관리자급의 연봉(2500 ~ 7500)의 경우 해당 업무에 맡는 임금을 주고 있는지 경쟁사와 비교해 볼 필요가 있음."
   ]
  },
  {
   "cell_type": "markdown",
   "metadata": {
    "id": "PCxgO05-2qCA"
   },
   "source": [
    "> "
   ]
  },
  {
   "cell_type": "markdown",
   "metadata": {
    "id": "Jd4WbbU-jqU3"
   },
   "source": [
    "## 4.관계 정리"
   ]
  },
  {
   "cell_type": "markdown",
   "metadata": {
    "id": "bKmN0rtAjto6"
   },
   "source": [
    "### 1) 강한관계의 변수"
   ]
  },
  {
   "cell_type": "markdown",
   "metadata": {
    "id": "BgUuHiHbjw62"
   },
   "source": [
    "MaritalStatus, Age, DistanceFromHome, MonthlyIncome"
   ]
  },
  {
   "cell_type": "markdown",
   "metadata": {
    "id": "u8B765zNjwp5"
   },
   "source": [
    "### 2) 중간관계의 변수"
   ]
  },
  {
   "cell_type": "markdown",
   "metadata": {
    "id": "k9CJjmAljwjd"
   },
   "source": [
    "Gender, JobSatisfaction "
   ]
  },
  {
   "cell_type": "markdown",
   "metadata": {
    "id": "eYiQ9OUijwdq"
   },
   "source": [
    "### 3) (거의)관계 없음"
   ]
  },
  {
   "cell_type": "markdown",
   "metadata": {
    "id": "v0qkBnp3jwbE"
   },
   "source": [
    "-"
   ]
  }
 ],
 "metadata": {
  "colab": {
   "collapsed_sections": [
    "4UMjF0sTkr-4",
    "F_Mugk3f_y3X",
    "UVjP9xEt2pVn",
    "CfOiGI1D2pne"
   ],
   "name": "과제1. 직원 이직 분석_이변량분석.ipynb",
   "provenance": [],
   "toc_visible": true
  },
  "kernelspec": {
   "display_name": "Python 3 (ipykernel)",
   "language": "python",
   "name": "python3"
  },
  "language_info": {
   "codemirror_mode": {
    "name": "ipython",
    "version": 3
   },
   "file_extension": ".py",
   "mimetype": "text/x-python",
   "name": "python",
   "nbconvert_exporter": "python",
   "pygments_lexer": "ipython3",
   "version": "3.8.8"
  },
  "toc": {
   "base_numbering": 1,
   "nav_menu": {},
   "number_sections": false,
   "sideBar": true,
   "skip_h1_title": false,
   "title_cell": "Table of Contents",
   "title_sidebar": "Contents",
   "toc_cell": false,
   "toc_position": {},
   "toc_section_display": true,
   "toc_window_display": true
  }
 },
 "nbformat": 4,
 "nbformat_minor": 1
}
