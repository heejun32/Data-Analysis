{
 "cells": [
  {
   "cell_type": "markdown",
   "metadata": {
    "id": "BFhIXgdYoYGp"
   },
   "source": [
    "#  Pandas 실습"
   ]
  },
  {
   "cell_type": "markdown",
   "metadata": {
    "id": "eRPNqQjA9RM8"
   },
   "source": [
    "## (1) 환경 준비"
   ]
  },
  {
   "cell_type": "markdown",
   "metadata": {
    "id": "bbwyNn__bn0Y"
   },
   "source": [
    "### 1) 라이브러리 불러오기"
   ]
  },
  {
   "cell_type": "code",
   "execution_count": 3,
   "metadata": {
    "ExecuteTime": {
     "end_time": "2022-05-05T15:58:30.894943Z",
     "start_time": "2022-05-05T15:58:29.860847Z"
    },
    "id": "b9NraxWDnYr1"
   },
   "outputs": [],
   "source": [
    "import pandas as pd\n",
    "import numpy as np"
   ]
  },
  {
   "cell_type": "markdown",
   "metadata": {
    "id": "U0gIziwkbuYw"
   },
   "source": [
    "### 2) 데이터 불러오기"
   ]
  },
  {
   "cell_type": "markdown",
   "metadata": {
    "id": "iQcDMyxTbwo4"
   },
   "source": [
    "다음 세개의 데이터를 불러와서 저장\n",
    "\n",
    "* sales : https://raw.githubusercontent.com/DA4BAM/dataset/master/sales.csv\n",
    "* products : https://raw.githubusercontent.com/DA4BAM/dataset/master/products.csv\n",
    "* customers : https://raw.githubusercontent.com/DA4BAM/dataset/master/customers2.csv"
   ]
  },
  {
   "cell_type": "code",
   "execution_count": 4,
   "metadata": {
    "ExecuteTime": {
     "end_time": "2022-05-05T16:23:15.790451Z",
     "start_time": "2022-05-05T16:23:14.685344Z"
    },
    "id": "7sVl9_SDbv-a"
   },
   "outputs": [],
   "source": [
    "sales = pd.read_csv('https://raw.githubusercontent.com/DA4BAM/dataset/master/sales.csv')\n",
    "products = pd.read_csv('https://raw.githubusercontent.com/DA4BAM/dataset/master/products.csv')\n",
    "customers = pd.read_csv('https://raw.githubusercontent.com/DA4BAM/dataset/master/customers2.csv')"
   ]
  },
  {
   "cell_type": "markdown",
   "metadata": {
    "id": "jxfAADt-cnhz"
   },
   "source": [
    "<small>데이터 출처: https://github.com/DA4BAM/dataset</small>  \n",
    "세 데이터프레임 조회화기."
   ]
  },
  {
   "cell_type": "code",
   "execution_count": 5,
   "metadata": {
    "ExecuteTime": {
     "end_time": "2022-05-05T16:23:15.820219Z",
     "start_time": "2022-05-05T16:23:15.790451Z"
    },
    "id": "J9CzRvK0cs9v"
   },
   "outputs": [
    {
     "data": {
      "text/html": [
       "<div>\n",
       "<style scoped>\n",
       "    .dataframe tbody tr th:only-of-type {\n",
       "        vertical-align: middle;\n",
       "    }\n",
       "\n",
       "    .dataframe tbody tr th {\n",
       "        vertical-align: top;\n",
       "    }\n",
       "\n",
       "    .dataframe thead th {\n",
       "        text-align: right;\n",
       "    }\n",
       "</style>\n",
       "<table border=\"1\" class=\"dataframe\">\n",
       "  <thead>\n",
       "    <tr style=\"text-align: right;\">\n",
       "      <th></th>\n",
       "      <th>OrderID</th>\n",
       "      <th>Seq</th>\n",
       "      <th>OrderDate</th>\n",
       "      <th>ProductID</th>\n",
       "      <th>Qty</th>\n",
       "      <th>Amt</th>\n",
       "      <th>CustomerID</th>\n",
       "    </tr>\n",
       "  </thead>\n",
       "  <tbody>\n",
       "    <tr>\n",
       "      <th>0</th>\n",
       "      <td>107</td>\n",
       "      <td>2</td>\n",
       "      <td>2016-01-02</td>\n",
       "      <td>p1036481</td>\n",
       "      <td>2</td>\n",
       "      <td>2100</td>\n",
       "      <td>c150417</td>\n",
       "    </tr>\n",
       "    <tr>\n",
       "      <th>1</th>\n",
       "      <td>69</td>\n",
       "      <td>1</td>\n",
       "      <td>2016-01-02</td>\n",
       "      <td>p1152861</td>\n",
       "      <td>1</td>\n",
       "      <td>1091</td>\n",
       "      <td>c212716</td>\n",
       "    </tr>\n",
       "    <tr>\n",
       "      <th>2</th>\n",
       "      <td>69</td>\n",
       "      <td>7</td>\n",
       "      <td>2016-01-02</td>\n",
       "      <td>p1013161</td>\n",
       "      <td>1</td>\n",
       "      <td>2600</td>\n",
       "      <td>c212716</td>\n",
       "    </tr>\n",
       "    <tr>\n",
       "      <th>3</th>\n",
       "      <td>69</td>\n",
       "      <td>8</td>\n",
       "      <td>2016-01-02</td>\n",
       "      <td>p1005771</td>\n",
       "      <td>1</td>\n",
       "      <td>1650</td>\n",
       "      <td>c212716</td>\n",
       "    </tr>\n",
       "    <tr>\n",
       "      <th>4</th>\n",
       "      <td>69</td>\n",
       "      <td>11</td>\n",
       "      <td>2016-01-02</td>\n",
       "      <td>p1089531</td>\n",
       "      <td>1</td>\n",
       "      <td>2600</td>\n",
       "      <td>c212716</td>\n",
       "    </tr>\n",
       "  </tbody>\n",
       "</table>\n",
       "</div>"
      ],
      "text/plain": [
       "   OrderID  Seq   OrderDate ProductID  Qty   Amt CustomerID\n",
       "0      107    2  2016-01-02  p1036481    2  2100    c150417\n",
       "1       69    1  2016-01-02  p1152861    1  1091    c212716\n",
       "2       69    7  2016-01-02  p1013161    1  2600    c212716\n",
       "3       69    8  2016-01-02  p1005771    1  1650    c212716\n",
       "4       69   11  2016-01-02  p1089531    1  2600    c212716"
      ]
     },
     "execution_count": 5,
     "metadata": {},
     "output_type": "execute_result"
    }
   ],
   "source": [
    "sales.head()"
   ]
  },
  {
   "cell_type": "code",
   "execution_count": 6,
   "metadata": {
    "ExecuteTime": {
     "end_time": "2022-05-05T16:23:15.835176Z",
     "start_time": "2022-05-05T16:23:15.823207Z"
    },
    "id": "1tY8pvkUf5v1"
   },
   "outputs": [
    {
     "data": {
      "text/html": [
       "<div>\n",
       "<style scoped>\n",
       "    .dataframe tbody tr th:only-of-type {\n",
       "        vertical-align: middle;\n",
       "    }\n",
       "\n",
       "    .dataframe tbody tr th {\n",
       "        vertical-align: top;\n",
       "    }\n",
       "\n",
       "    .dataframe thead th {\n",
       "        text-align: right;\n",
       "    }\n",
       "</style>\n",
       "<table border=\"1\" class=\"dataframe\">\n",
       "  <thead>\n",
       "    <tr style=\"text-align: right;\">\n",
       "      <th></th>\n",
       "      <th>ProductID</th>\n",
       "      <th>ProductName</th>\n",
       "      <th>Category</th>\n",
       "      <th>SubCategory</th>\n",
       "      <th>CategoryOrd</th>\n",
       "    </tr>\n",
       "  </thead>\n",
       "  <tbody>\n",
       "    <tr>\n",
       "      <th>0</th>\n",
       "      <td>p1052661</td>\n",
       "      <td>새우깡</td>\n",
       "      <td>간식</td>\n",
       "      <td>과자</td>\n",
       "      <td>3</td>\n",
       "    </tr>\n",
       "    <tr>\n",
       "      <th>1</th>\n",
       "      <td>p1054261</td>\n",
       "      <td>고구마스틱</td>\n",
       "      <td>간식</td>\n",
       "      <td>과자</td>\n",
       "      <td>3</td>\n",
       "    </tr>\n",
       "    <tr>\n",
       "      <th>2</th>\n",
       "      <td>p1097821</td>\n",
       "      <td>짱구</td>\n",
       "      <td>간식</td>\n",
       "      <td>과자</td>\n",
       "      <td>3</td>\n",
       "    </tr>\n",
       "    <tr>\n",
       "      <th>3</th>\n",
       "      <td>p1097831</td>\n",
       "      <td>감자칩</td>\n",
       "      <td>간식</td>\n",
       "      <td>과자</td>\n",
       "      <td>3</td>\n",
       "    </tr>\n",
       "    <tr>\n",
       "      <th>4</th>\n",
       "      <td>p1119071</td>\n",
       "      <td>뿌셔뿌셔</td>\n",
       "      <td>간식</td>\n",
       "      <td>과자</td>\n",
       "      <td>3</td>\n",
       "    </tr>\n",
       "  </tbody>\n",
       "</table>\n",
       "</div>"
      ],
      "text/plain": [
       "  ProductID ProductName Category SubCategory  CategoryOrd\n",
       "0  p1052661         새우깡       간식          과자            3\n",
       "1  p1054261       고구마스틱       간식          과자            3\n",
       "2  p1097821          짱구       간식          과자            3\n",
       "3  p1097831         감자칩       간식          과자            3\n",
       "4  p1119071        뿌셔뿌셔       간식          과자            3"
      ]
     },
     "execution_count": 6,
     "metadata": {},
     "output_type": "execute_result"
    }
   ],
   "source": [
    "products.head()"
   ]
  },
  {
   "cell_type": "code",
   "execution_count": 7,
   "metadata": {
    "ExecuteTime": {
     "end_time": "2022-05-05T16:23:15.866091Z",
     "start_time": "2022-05-05T16:23:15.838170Z"
    },
    "id": "ZWZSrJLXf7dV"
   },
   "outputs": [
    {
     "data": {
      "text/html": [
       "<div>\n",
       "<style scoped>\n",
       "    .dataframe tbody tr th:only-of-type {\n",
       "        vertical-align: middle;\n",
       "    }\n",
       "\n",
       "    .dataframe tbody tr th {\n",
       "        vertical-align: top;\n",
       "    }\n",
       "\n",
       "    .dataframe thead th {\n",
       "        text-align: right;\n",
       "    }\n",
       "</style>\n",
       "<table border=\"1\" class=\"dataframe\">\n",
       "  <thead>\n",
       "    <tr style=\"text-align: right;\">\n",
       "      <th></th>\n",
       "      <th>CustomerID</th>\n",
       "      <th>RegisterDate</th>\n",
       "      <th>Gender</th>\n",
       "      <th>BirthYear</th>\n",
       "    </tr>\n",
       "  </thead>\n",
       "  <tbody>\n",
       "    <tr>\n",
       "      <th>0</th>\n",
       "      <td>c328222</td>\n",
       "      <td>2014-09-25</td>\n",
       "      <td>F</td>\n",
       "      <td>1960</td>\n",
       "    </tr>\n",
       "    <tr>\n",
       "      <th>1</th>\n",
       "      <td>c281448</td>\n",
       "      <td>2013-06-18</td>\n",
       "      <td>F</td>\n",
       "      <td>1974</td>\n",
       "    </tr>\n",
       "    <tr>\n",
       "      <th>2</th>\n",
       "      <td>c038336</td>\n",
       "      <td>2003-10-10</td>\n",
       "      <td>F</td>\n",
       "      <td>1968</td>\n",
       "    </tr>\n",
       "    <tr>\n",
       "      <th>3</th>\n",
       "      <td>c084237</td>\n",
       "      <td>2007-03-09</td>\n",
       "      <td>F</td>\n",
       "      <td>1982</td>\n",
       "    </tr>\n",
       "    <tr>\n",
       "      <th>4</th>\n",
       "      <td>c162600</td>\n",
       "      <td>2010-06-14</td>\n",
       "      <td>F</td>\n",
       "      <td>1978</td>\n",
       "    </tr>\n",
       "  </tbody>\n",
       "</table>\n",
       "</div>"
      ],
      "text/plain": [
       "  CustomerID RegisterDate Gender  BirthYear\n",
       "0    c328222   2014-09-25      F       1960\n",
       "1    c281448   2013-06-18      F       1974\n",
       "2    c038336   2003-10-10      F       1968\n",
       "3    c084237   2007-03-09      F       1982\n",
       "4    c162600   2010-06-14      F       1978"
      ]
     },
     "execution_count": 7,
     "metadata": {},
     "output_type": "execute_result"
    }
   ],
   "source": [
    "customers.head()"
   ]
  },
  {
   "cell_type": "markdown",
   "metadata": {
    "id": "jMuRJ6NccVXh"
   },
   "source": [
    "## (2) 데이터 집계, 수정, 조회하기."
   ]
  },
  {
   "cell_type": "markdown",
   "metadata": {
    "id": "DGmzNt-AcVXh"
   },
   "source": [
    "### 1) sales의 ProductID 별 판매량(Qty)과 판매액(Amt)의 합계를 tmp에 저장하고 조회하기."
   ]
  },
  {
   "cell_type": "code",
   "execution_count": 8,
   "metadata": {
    "ExecuteTime": {
     "end_time": "2022-05-05T16:23:16.434066Z",
     "start_time": "2022-05-05T16:23:16.404187Z"
    },
    "id": "BQR_SDN5cVXi"
   },
   "outputs": [
    {
     "data": {
      "text/html": [
       "<div>\n",
       "<style scoped>\n",
       "    .dataframe tbody tr th:only-of-type {\n",
       "        vertical-align: middle;\n",
       "    }\n",
       "\n",
       "    .dataframe tbody tr th {\n",
       "        vertical-align: top;\n",
       "    }\n",
       "\n",
       "    .dataframe thead th {\n",
       "        text-align: right;\n",
       "    }\n",
       "</style>\n",
       "<table border=\"1\" class=\"dataframe\">\n",
       "  <thead>\n",
       "    <tr style=\"text-align: right;\">\n",
       "      <th></th>\n",
       "      <th>Qty</th>\n",
       "      <th>Amt</th>\n",
       "    </tr>\n",
       "    <tr>\n",
       "      <th>ProductID</th>\n",
       "      <th></th>\n",
       "      <th></th>\n",
       "    </tr>\n",
       "  </thead>\n",
       "  <tbody>\n",
       "    <tr>\n",
       "      <th>p1001771</th>\n",
       "      <td>1055</td>\n",
       "      <td>3354827</td>\n",
       "    </tr>\n",
       "    <tr>\n",
       "      <th>p1002841</th>\n",
       "      <td>903</td>\n",
       "      <td>11011541</td>\n",
       "    </tr>\n",
       "    <tr>\n",
       "      <th>p1005621</th>\n",
       "      <td>906</td>\n",
       "      <td>2601703</td>\n",
       "    </tr>\n",
       "    <tr>\n",
       "      <th>p1005771</th>\n",
       "      <td>3963</td>\n",
       "      <td>7319963</td>\n",
       "    </tr>\n",
       "    <tr>\n",
       "      <th>p1005891</th>\n",
       "      <td>5194</td>\n",
       "      <td>10119037</td>\n",
       "    </tr>\n",
       "    <tr>\n",
       "      <th>...</th>\n",
       "      <td>...</td>\n",
       "      <td>...</td>\n",
       "    </tr>\n",
       "    <tr>\n",
       "      <th>p1246581</th>\n",
       "      <td>2180</td>\n",
       "      <td>2456346</td>\n",
       "    </tr>\n",
       "    <tr>\n",
       "      <th>p1255281</th>\n",
       "      <td>809</td>\n",
       "      <td>955633</td>\n",
       "    </tr>\n",
       "    <tr>\n",
       "      <th>p1256521</th>\n",
       "      <td>701</td>\n",
       "      <td>1241545</td>\n",
       "    </tr>\n",
       "    <tr>\n",
       "      <th>p1284851</th>\n",
       "      <td>2350</td>\n",
       "      <td>6437323</td>\n",
       "    </tr>\n",
       "    <tr>\n",
       "      <th>p1299491</th>\n",
       "      <td>530</td>\n",
       "      <td>1094319</td>\n",
       "    </tr>\n",
       "  </tbody>\n",
       "</table>\n",
       "<p>62 rows × 2 columns</p>\n",
       "</div>"
      ],
      "text/plain": [
       "            Qty       Amt\n",
       "ProductID                \n",
       "p1001771   1055   3354827\n",
       "p1002841    903  11011541\n",
       "p1005621    906   2601703\n",
       "p1005771   3963   7319963\n",
       "p1005891   5194  10119037\n",
       "...         ...       ...\n",
       "p1246581   2180   2456346\n",
       "p1255281    809    955633\n",
       "p1256521    701   1241545\n",
       "p1284851   2350   6437323\n",
       "p1299491    530   1094319\n",
       "\n",
       "[62 rows x 2 columns]"
      ]
     },
     "execution_count": 8,
     "metadata": {},
     "output_type": "execute_result"
    }
   ],
   "source": [
    "tmp = sales.groupby('ProductID', as_index = True)[['Qty', 'Amt']].sum()\n",
    "tmp"
   ]
  },
  {
   "cell_type": "markdown",
   "metadata": {
    "id": "DMOy9kfpgVom"
   },
   "source": [
    "### 2)  1번 결과를 판매액 기준 내림차순으로 정렬하고 상위 5개 상품을 조회하기."
   ]
  },
  {
   "cell_type": "code",
   "execution_count": 9,
   "metadata": {
    "ExecuteTime": {
     "end_time": "2022-05-05T16:23:17.419271Z",
     "start_time": "2022-05-05T16:23:17.408300Z"
    },
    "id": "7ZiF4WVMgVon"
   },
   "outputs": [
    {
     "data": {
      "text/html": [
       "<div>\n",
       "<style scoped>\n",
       "    .dataframe tbody tr th:only-of-type {\n",
       "        vertical-align: middle;\n",
       "    }\n",
       "\n",
       "    .dataframe tbody tr th {\n",
       "        vertical-align: top;\n",
       "    }\n",
       "\n",
       "    .dataframe thead th {\n",
       "        text-align: right;\n",
       "    }\n",
       "</style>\n",
       "<table border=\"1\" class=\"dataframe\">\n",
       "  <thead>\n",
       "    <tr style=\"text-align: right;\">\n",
       "      <th></th>\n",
       "      <th>Qty</th>\n",
       "      <th>Amt</th>\n",
       "    </tr>\n",
       "    <tr>\n",
       "      <th>ProductID</th>\n",
       "      <th></th>\n",
       "      <th></th>\n",
       "    </tr>\n",
       "  </thead>\n",
       "  <tbody>\n",
       "    <tr>\n",
       "      <th>p1072601</th>\n",
       "      <td>4058</td>\n",
       "      <td>18129067</td>\n",
       "    </tr>\n",
       "    <tr>\n",
       "      <th>p1178011</th>\n",
       "      <td>1653</td>\n",
       "      <td>14078818</td>\n",
       "    </tr>\n",
       "    <tr>\n",
       "      <th>p1002841</th>\n",
       "      <td>903</td>\n",
       "      <td>11011541</td>\n",
       "    </tr>\n",
       "    <tr>\n",
       "      <th>p1005891</th>\n",
       "      <td>5194</td>\n",
       "      <td>10119037</td>\n",
       "    </tr>\n",
       "    <tr>\n",
       "      <th>p1194801</th>\n",
       "      <td>990</td>\n",
       "      <td>7517664</td>\n",
       "    </tr>\n",
       "  </tbody>\n",
       "</table>\n",
       "</div>"
      ],
      "text/plain": [
       "            Qty       Amt\n",
       "ProductID                \n",
       "p1072601   4058  18129067\n",
       "p1178011   1653  14078818\n",
       "p1002841    903  11011541\n",
       "p1005891   5194  10119037\n",
       "p1194801    990   7517664"
      ]
     },
     "execution_count": 9,
     "metadata": {},
     "output_type": "execute_result"
    }
   ],
   "source": [
    "tmp.sort_values(by = 'Amt', ascending = False).head()"
   ]
  },
  {
   "cell_type": "markdown",
   "metadata": {
    "id": "S_sqc9exdaQj"
   },
   "source": [
    "### 3) customers의 성별(Gender) 별 고객 수를 조회하기."
   ]
  },
  {
   "cell_type": "code",
   "execution_count": 10,
   "metadata": {
    "ExecuteTime": {
     "end_time": "2022-05-05T16:23:19.445585Z",
     "start_time": "2022-05-05T16:23:19.421679Z"
    },
    "id": "G6ahip2DdaQr"
   },
   "outputs": [
    {
     "data": {
      "text/html": [
       "<div>\n",
       "<style scoped>\n",
       "    .dataframe tbody tr th:only-of-type {\n",
       "        vertical-align: middle;\n",
       "    }\n",
       "\n",
       "    .dataframe tbody tr th {\n",
       "        vertical-align: top;\n",
       "    }\n",
       "\n",
       "    .dataframe thead th {\n",
       "        text-align: right;\n",
       "    }\n",
       "</style>\n",
       "<table border=\"1\" class=\"dataframe\">\n",
       "  <thead>\n",
       "    <tr style=\"text-align: right;\">\n",
       "      <th></th>\n",
       "      <th>Gender</th>\n",
       "      <th>BirthYear</th>\n",
       "    </tr>\n",
       "  </thead>\n",
       "  <tbody>\n",
       "    <tr>\n",
       "      <th>0</th>\n",
       "      <td>F</td>\n",
       "      <td>4060490</td>\n",
       "    </tr>\n",
       "    <tr>\n",
       "      <th>1</th>\n",
       "      <td>M</td>\n",
       "      <td>360704</td>\n",
       "    </tr>\n",
       "  </tbody>\n",
       "</table>\n",
       "</div>"
      ],
      "text/plain": [
       "  Gender  BirthYear\n",
       "0      F    4060490\n",
       "1      M     360704"
      ]
     },
     "execution_count": 10,
     "metadata": {},
     "output_type": "execute_result"
    }
   ],
   "source": [
    "customers.groupby(by = 'Gender', as_index = False).sum()"
   ]
  },
  {
   "cell_type": "markdown",
   "metadata": {
    "id": "GMfD-8-gfgFn"
   },
   "source": [
    "### 4) customers의 출생연도(BirthYear) 로 부터 나이(Age)를 계산해서 변수로 추가하기."
   ]
  },
  {
   "cell_type": "code",
   "execution_count": 11,
   "metadata": {
    "ExecuteTime": {
     "end_time": "2022-05-05T16:23:21.505332Z",
     "start_time": "2022-05-05T16:23:21.481414Z"
    },
    "id": "FNgZrhqrfgF1"
   },
   "outputs": [
    {
     "data": {
      "text/html": [
       "<div>\n",
       "<style scoped>\n",
       "    .dataframe tbody tr th:only-of-type {\n",
       "        vertical-align: middle;\n",
       "    }\n",
       "\n",
       "    .dataframe tbody tr th {\n",
       "        vertical-align: top;\n",
       "    }\n",
       "\n",
       "    .dataframe thead th {\n",
       "        text-align: right;\n",
       "    }\n",
       "</style>\n",
       "<table border=\"1\" class=\"dataframe\">\n",
       "  <thead>\n",
       "    <tr style=\"text-align: right;\">\n",
       "      <th></th>\n",
       "      <th>CustomerID</th>\n",
       "      <th>RegisterDate</th>\n",
       "      <th>Gender</th>\n",
       "      <th>BirthYear</th>\n",
       "      <th>Age</th>\n",
       "    </tr>\n",
       "  </thead>\n",
       "  <tbody>\n",
       "    <tr>\n",
       "      <th>0</th>\n",
       "      <td>c328222</td>\n",
       "      <td>2014-09-25</td>\n",
       "      <td>F</td>\n",
       "      <td>1960</td>\n",
       "      <td>62</td>\n",
       "    </tr>\n",
       "    <tr>\n",
       "      <th>1</th>\n",
       "      <td>c281448</td>\n",
       "      <td>2013-06-18</td>\n",
       "      <td>F</td>\n",
       "      <td>1974</td>\n",
       "      <td>48</td>\n",
       "    </tr>\n",
       "    <tr>\n",
       "      <th>2</th>\n",
       "      <td>c038336</td>\n",
       "      <td>2003-10-10</td>\n",
       "      <td>F</td>\n",
       "      <td>1968</td>\n",
       "      <td>54</td>\n",
       "    </tr>\n",
       "    <tr>\n",
       "      <th>3</th>\n",
       "      <td>c084237</td>\n",
       "      <td>2007-03-09</td>\n",
       "      <td>F</td>\n",
       "      <td>1982</td>\n",
       "      <td>40</td>\n",
       "    </tr>\n",
       "    <tr>\n",
       "      <th>4</th>\n",
       "      <td>c162600</td>\n",
       "      <td>2010-06-14</td>\n",
       "      <td>F</td>\n",
       "      <td>1978</td>\n",
       "      <td>44</td>\n",
       "    </tr>\n",
       "  </tbody>\n",
       "</table>\n",
       "</div>"
      ],
      "text/plain": [
       "  CustomerID RegisterDate Gender  BirthYear  Age\n",
       "0    c328222   2014-09-25      F       1960   62\n",
       "1    c281448   2013-06-18      F       1974   48\n",
       "2    c038336   2003-10-10      F       1968   54\n",
       "3    c084237   2007-03-09      F       1982   40\n",
       "4    c162600   2010-06-14      F       1978   44"
      ]
     },
     "execution_count": 11,
     "metadata": {},
     "output_type": "execute_result"
    }
   ],
   "source": [
    "customers['Age'] = 2022 - customers['BirthYear']\n",
    "customers.head()"
   ]
  },
  {
   "cell_type": "markdown",
   "metadata": {
    "id": "HojPPCg-hKbo"
   },
   "source": [
    "### 5) customers의 나이(Age)를 나이대(AgeGroup)로 변환하기.\n",
    "\n",
    "* [ , 30)  : 30미만\n",
    "* [30, 40) : 30대\n",
    "* [40, 50) : 40대\n",
    "* [50, 60) : 50대\n",
    "* [60, 70) : 60대\n",
    "* [70, )   : 70이상\n",
    "\n",
    "> [30, 40) 의 의미 : 30 <= ,  < 40"
   ]
  },
  {
   "cell_type": "code",
   "execution_count": 12,
   "metadata": {
    "ExecuteTime": {
     "end_time": "2022-05-05T16:23:34.460204Z",
     "start_time": "2022-05-05T16:23:34.436267Z"
    },
    "id": "84Qi9owGhKbp"
   },
   "outputs": [
    {
     "data": {
      "text/html": [
       "<div>\n",
       "<style scoped>\n",
       "    .dataframe tbody tr th:only-of-type {\n",
       "        vertical-align: middle;\n",
       "    }\n",
       "\n",
       "    .dataframe tbody tr th {\n",
       "        vertical-align: top;\n",
       "    }\n",
       "\n",
       "    .dataframe thead th {\n",
       "        text-align: right;\n",
       "    }\n",
       "</style>\n",
       "<table border=\"1\" class=\"dataframe\">\n",
       "  <thead>\n",
       "    <tr style=\"text-align: right;\">\n",
       "      <th></th>\n",
       "      <th>CustomerID</th>\n",
       "      <th>RegisterDate</th>\n",
       "      <th>Gender</th>\n",
       "      <th>BirthYear</th>\n",
       "      <th>Age</th>\n",
       "      <th>AgeGroup</th>\n",
       "    </tr>\n",
       "  </thead>\n",
       "  <tbody>\n",
       "    <tr>\n",
       "      <th>0</th>\n",
       "      <td>c328222</td>\n",
       "      <td>2014-09-25</td>\n",
       "      <td>F</td>\n",
       "      <td>1960</td>\n",
       "      <td>62</td>\n",
       "      <td>60대</td>\n",
       "    </tr>\n",
       "    <tr>\n",
       "      <th>1</th>\n",
       "      <td>c281448</td>\n",
       "      <td>2013-06-18</td>\n",
       "      <td>F</td>\n",
       "      <td>1974</td>\n",
       "      <td>48</td>\n",
       "      <td>40대</td>\n",
       "    </tr>\n",
       "    <tr>\n",
       "      <th>2</th>\n",
       "      <td>c038336</td>\n",
       "      <td>2003-10-10</td>\n",
       "      <td>F</td>\n",
       "      <td>1968</td>\n",
       "      <td>54</td>\n",
       "      <td>50대</td>\n",
       "    </tr>\n",
       "    <tr>\n",
       "      <th>3</th>\n",
       "      <td>c084237</td>\n",
       "      <td>2007-03-09</td>\n",
       "      <td>F</td>\n",
       "      <td>1982</td>\n",
       "      <td>40</td>\n",
       "      <td>40대</td>\n",
       "    </tr>\n",
       "    <tr>\n",
       "      <th>4</th>\n",
       "      <td>c162600</td>\n",
       "      <td>2010-06-14</td>\n",
       "      <td>F</td>\n",
       "      <td>1978</td>\n",
       "      <td>44</td>\n",
       "      <td>40대</td>\n",
       "    </tr>\n",
       "  </tbody>\n",
       "</table>\n",
       "</div>"
      ],
      "text/plain": [
       "  CustomerID RegisterDate Gender  BirthYear  Age AgeGroup\n",
       "0    c328222   2014-09-25      F       1960   62      60대\n",
       "1    c281448   2013-06-18      F       1974   48      40대\n",
       "2    c038336   2003-10-10      F       1968   54      50대\n",
       "3    c084237   2007-03-09      F       1982   40      40대\n",
       "4    c162600   2010-06-14      F       1978   44      40대"
      ]
     },
     "execution_count": 12,
     "metadata": {},
     "output_type": "execute_result"
    }
   ],
   "source": [
    "bins = [0, 29, 39, 49, 59, 69, np.inf]\n",
    "labels = ['30미만', '30대', '40대', '50대', '60대', '70대이상']\n",
    "customers['AgeGroup'] = pd.cut(customers['Age'], bins = bins, labels = labels)\n",
    "customers.head()"
   ]
  },
  {
   "cell_type": "markdown",
   "metadata": {
    "id": "dQFlWG09jq7x"
   },
   "source": [
    "### 6) customers의 나이대(AgeGroup) 별 고객수를 구하기."
   ]
  },
  {
   "cell_type": "code",
   "execution_count": 13,
   "metadata": {
    "ExecuteTime": {
     "end_time": "2022-05-05T16:23:36.918453Z",
     "start_time": "2022-05-05T16:23:36.906478Z"
    },
    "id": "gsnU0dfkjq7y",
    "scrolled": true
   },
   "outputs": [
    {
     "data": {
      "text/plain": [
       "AgeGroup\n",
       "30미만       6\n",
       "30대      186\n",
       "40대      925\n",
       "50대      749\n",
       "60대      267\n",
       "70대이상    110\n",
       "Name: CustomerID, dtype: int64"
      ]
     },
     "execution_count": 13,
     "metadata": {},
     "output_type": "execute_result"
    }
   ],
   "source": [
    "customers.groupby('AgeGroup')['CustomerID'].count()"
   ]
  },
  {
   "cell_type": "markdown",
   "metadata": {
    "id": "bdHV4xvlj_LN"
   },
   "source": [
    "### 7) 매출액 top 5 상품명을 조회하기."
   ]
  },
  {
   "cell_type": "code",
   "execution_count": 14,
   "metadata": {
    "ExecuteTime": {
     "end_time": "2022-05-05T16:25:02.268842Z",
     "start_time": "2022-05-05T16:25:02.239930Z"
    }
   },
   "outputs": [
    {
     "data": {
      "text/html": [
       "<div>\n",
       "<style scoped>\n",
       "    .dataframe tbody tr th:only-of-type {\n",
       "        vertical-align: middle;\n",
       "    }\n",
       "\n",
       "    .dataframe tbody tr th {\n",
       "        vertical-align: top;\n",
       "    }\n",
       "\n",
       "    .dataframe thead th {\n",
       "        text-align: right;\n",
       "    }\n",
       "</style>\n",
       "<table border=\"1\" class=\"dataframe\">\n",
       "  <thead>\n",
       "    <tr style=\"text-align: right;\">\n",
       "      <th></th>\n",
       "      <th>OrderID</th>\n",
       "      <th>Seq</th>\n",
       "      <th>OrderDate</th>\n",
       "      <th>ProductID</th>\n",
       "      <th>Qty</th>\n",
       "      <th>Amt</th>\n",
       "      <th>CustomerID</th>\n",
       "      <th>sale</th>\n",
       "    </tr>\n",
       "  </thead>\n",
       "  <tbody>\n",
       "    <tr>\n",
       "      <th>0</th>\n",
       "      <td>107</td>\n",
       "      <td>2</td>\n",
       "      <td>2016-01-02</td>\n",
       "      <td>p1036481</td>\n",
       "      <td>2</td>\n",
       "      <td>2100</td>\n",
       "      <td>c150417</td>\n",
       "      <td>4200</td>\n",
       "    </tr>\n",
       "    <tr>\n",
       "      <th>1</th>\n",
       "      <td>69</td>\n",
       "      <td>1</td>\n",
       "      <td>2016-01-02</td>\n",
       "      <td>p1152861</td>\n",
       "      <td>1</td>\n",
       "      <td>1091</td>\n",
       "      <td>c212716</td>\n",
       "      <td>1091</td>\n",
       "    </tr>\n",
       "    <tr>\n",
       "      <th>2</th>\n",
       "      <td>69</td>\n",
       "      <td>7</td>\n",
       "      <td>2016-01-02</td>\n",
       "      <td>p1013161</td>\n",
       "      <td>1</td>\n",
       "      <td>2600</td>\n",
       "      <td>c212716</td>\n",
       "      <td>2600</td>\n",
       "    </tr>\n",
       "    <tr>\n",
       "      <th>3</th>\n",
       "      <td>69</td>\n",
       "      <td>8</td>\n",
       "      <td>2016-01-02</td>\n",
       "      <td>p1005771</td>\n",
       "      <td>1</td>\n",
       "      <td>1650</td>\n",
       "      <td>c212716</td>\n",
       "      <td>1650</td>\n",
       "    </tr>\n",
       "    <tr>\n",
       "      <th>4</th>\n",
       "      <td>69</td>\n",
       "      <td>11</td>\n",
       "      <td>2016-01-02</td>\n",
       "      <td>p1089531</td>\n",
       "      <td>1</td>\n",
       "      <td>2600</td>\n",
       "      <td>c212716</td>\n",
       "      <td>2600</td>\n",
       "    </tr>\n",
       "  </tbody>\n",
       "</table>\n",
       "</div>"
      ],
      "text/plain": [
       "   OrderID  Seq   OrderDate ProductID  Qty   Amt CustomerID  sale\n",
       "0      107    2  2016-01-02  p1036481    2  2100    c150417  4200\n",
       "1       69    1  2016-01-02  p1152861    1  1091    c212716  1091\n",
       "2       69    7  2016-01-02  p1013161    1  2600    c212716  2600\n",
       "3       69    8  2016-01-02  p1005771    1  1650    c212716  1650\n",
       "4       69   11  2016-01-02  p1089531    1  2600    c212716  2600"
      ]
     },
     "execution_count": 14,
     "metadata": {},
     "output_type": "execute_result"
    }
   ],
   "source": [
    "# 매출액 컬럼 만들기\n",
    "sales['sale'] = sales['Amt'] * sales['Qty']\n",
    "sales.head()"
   ]
  },
  {
   "cell_type": "code",
   "execution_count": 17,
   "metadata": {
    "ExecuteTime": {
     "end_time": "2022-05-05T16:25:09.126633Z",
     "start_time": "2022-05-05T16:25:09.069365Z"
    },
    "id": "KnEZgZtDj_LO"
   },
   "outputs": [
    {
     "data": {
      "text/html": [
       "<div>\n",
       "<style scoped>\n",
       "    .dataframe tbody tr th:only-of-type {\n",
       "        vertical-align: middle;\n",
       "    }\n",
       "\n",
       "    .dataframe tbody tr th {\n",
       "        vertical-align: top;\n",
       "    }\n",
       "\n",
       "    .dataframe thead th {\n",
       "        text-align: right;\n",
       "    }\n",
       "</style>\n",
       "<table border=\"1\" class=\"dataframe\">\n",
       "  <thead>\n",
       "    <tr style=\"text-align: right;\">\n",
       "      <th></th>\n",
       "      <th>OrderID</th>\n",
       "      <th>Seq</th>\n",
       "      <th>OrderDate</th>\n",
       "      <th>ProductID</th>\n",
       "      <th>Qty</th>\n",
       "      <th>Amt</th>\n",
       "      <th>CustomerID</th>\n",
       "      <th>sale</th>\n",
       "      <th>ProductName</th>\n",
       "      <th>Category</th>\n",
       "      <th>SubCategory</th>\n",
       "      <th>CategoryOrd</th>\n",
       "    </tr>\n",
       "  </thead>\n",
       "  <tbody>\n",
       "    <tr>\n",
       "      <th>0</th>\n",
       "      <td>107</td>\n",
       "      <td>2</td>\n",
       "      <td>2016-01-02</td>\n",
       "      <td>p1036481</td>\n",
       "      <td>2</td>\n",
       "      <td>2100</td>\n",
       "      <td>c150417</td>\n",
       "      <td>4200</td>\n",
       "      <td>순두부</td>\n",
       "      <td>반찬류</td>\n",
       "      <td>두부</td>\n",
       "      <td>1</td>\n",
       "    </tr>\n",
       "    <tr>\n",
       "      <th>1</th>\n",
       "      <td>137</td>\n",
       "      <td>4</td>\n",
       "      <td>2016-01-02</td>\n",
       "      <td>p1036481</td>\n",
       "      <td>2</td>\n",
       "      <td>2100</td>\n",
       "      <td>c280590</td>\n",
       "      <td>4200</td>\n",
       "      <td>순두부</td>\n",
       "      <td>반찬류</td>\n",
       "      <td>두부</td>\n",
       "      <td>1</td>\n",
       "    </tr>\n",
       "    <tr>\n",
       "      <th>2</th>\n",
       "      <td>63</td>\n",
       "      <td>16</td>\n",
       "      <td>2016-01-03</td>\n",
       "      <td>p1036481</td>\n",
       "      <td>1</td>\n",
       "      <td>1050</td>\n",
       "      <td>c037915</td>\n",
       "      <td>1050</td>\n",
       "      <td>순두부</td>\n",
       "      <td>반찬류</td>\n",
       "      <td>두부</td>\n",
       "      <td>1</td>\n",
       "    </tr>\n",
       "    <tr>\n",
       "      <th>3</th>\n",
       "      <td>135</td>\n",
       "      <td>3</td>\n",
       "      <td>2016-01-04</td>\n",
       "      <td>p1036481</td>\n",
       "      <td>3</td>\n",
       "      <td>3150</td>\n",
       "      <td>c100815</td>\n",
       "      <td>9450</td>\n",
       "      <td>순두부</td>\n",
       "      <td>반찬류</td>\n",
       "      <td>두부</td>\n",
       "      <td>1</td>\n",
       "    </tr>\n",
       "    <tr>\n",
       "      <th>4</th>\n",
       "      <td>63</td>\n",
       "      <td>13</td>\n",
       "      <td>2016-01-06</td>\n",
       "      <td>p1036481</td>\n",
       "      <td>10</td>\n",
       "      <td>10500</td>\n",
       "      <td>c048405</td>\n",
       "      <td>105000</td>\n",
       "      <td>순두부</td>\n",
       "      <td>반찬류</td>\n",
       "      <td>두부</td>\n",
       "      <td>1</td>\n",
       "    </tr>\n",
       "  </tbody>\n",
       "</table>\n",
       "</div>"
      ],
      "text/plain": [
       "   OrderID  Seq   OrderDate ProductID  Qty    Amt CustomerID    sale  \\\n",
       "0      107    2  2016-01-02  p1036481    2   2100    c150417    4200   \n",
       "1      137    4  2016-01-02  p1036481    2   2100    c280590    4200   \n",
       "2       63   16  2016-01-03  p1036481    1   1050    c037915    1050   \n",
       "3      135    3  2016-01-04  p1036481    3   3150    c100815    9450   \n",
       "4       63   13  2016-01-06  p1036481   10  10500    c048405  105000   \n",
       "\n",
       "  ProductName Category SubCategory  CategoryOrd  \n",
       "0         순두부      반찬류          두부            1  \n",
       "1         순두부      반찬류          두부            1  \n",
       "2         순두부      반찬류          두부            1  \n",
       "3         순두부      반찬류          두부            1  \n",
       "4         순두부      반찬류          두부            1  "
      ]
     },
     "execution_count": 17,
     "metadata": {},
     "output_type": "execute_result"
    }
   ],
   "source": [
    "# sales와 products를 ProductID 기준으로 inner 조인\n",
    "\n",
    "total = pd.merge(sales, products, on = 'ProductID', how = 'inner')\n",
    "total.head()"
   ]
  },
  {
   "cell_type": "code",
   "execution_count": 19,
   "metadata": {
    "ExecuteTime": {
     "end_time": "2022-05-05T16:25:19.440309Z",
     "start_time": "2022-05-05T16:25:19.409407Z"
    },
    "id": "phaevIemkura"
   },
   "outputs": [
    {
     "data": {
      "text/html": [
       "<div>\n",
       "<style scoped>\n",
       "    .dataframe tbody tr th:only-of-type {\n",
       "        vertical-align: middle;\n",
       "    }\n",
       "\n",
       "    .dataframe tbody tr th {\n",
       "        vertical-align: top;\n",
       "    }\n",
       "\n",
       "    .dataframe thead th {\n",
       "        text-align: right;\n",
       "    }\n",
       "</style>\n",
       "<table border=\"1\" class=\"dataframe\">\n",
       "  <thead>\n",
       "    <tr style=\"text-align: right;\">\n",
       "      <th></th>\n",
       "      <th>sale</th>\n",
       "    </tr>\n",
       "    <tr>\n",
       "      <th>ProductID</th>\n",
       "      <th></th>\n",
       "    </tr>\n",
       "  </thead>\n",
       "  <tbody>\n",
       "    <tr>\n",
       "      <th>p1001771</th>\n",
       "      <td>4289867</td>\n",
       "    </tr>\n",
       "    <tr>\n",
       "      <th>p1002841</th>\n",
       "      <td>13280561</td>\n",
       "    </tr>\n",
       "    <tr>\n",
       "      <th>p1005621</th>\n",
       "      <td>3350069</td>\n",
       "    </tr>\n",
       "    <tr>\n",
       "      <th>p1005771</th>\n",
       "      <td>10166705</td>\n",
       "    </tr>\n",
       "    <tr>\n",
       "      <th>p1005891</th>\n",
       "      <td>17797123</td>\n",
       "    </tr>\n",
       "  </tbody>\n",
       "</table>\n",
       "</div>"
      ],
      "text/plain": [
       "               sale\n",
       "ProductID          \n",
       "p1001771    4289867\n",
       "p1002841   13280561\n",
       "p1005621    3350069\n",
       "p1005771   10166705\n",
       "p1005891   17797123"
      ]
     },
     "execution_count": 19,
     "metadata": {},
     "output_type": "execute_result"
    }
   ],
   "source": [
    "# 상품명 별 매출액 합계를 집계\n",
    "total.groupby('ProductID')[['sale']].sum().head()"
   ]
  },
  {
   "cell_type": "code",
   "execution_count": 21,
   "metadata": {
    "ExecuteTime": {
     "end_time": "2022-05-05T16:25:38.307241Z",
     "start_time": "2022-05-05T16:25:38.285270Z"
    },
    "id": "NRC5dKFolIWf"
   },
   "outputs": [
    {
     "data": {
      "text/html": [
       "<div>\n",
       "<style scoped>\n",
       "    .dataframe tbody tr th:only-of-type {\n",
       "        vertical-align: middle;\n",
       "    }\n",
       "\n",
       "    .dataframe tbody tr th {\n",
       "        vertical-align: top;\n",
       "    }\n",
       "\n",
       "    .dataframe thead th {\n",
       "        text-align: right;\n",
       "    }\n",
       "</style>\n",
       "<table border=\"1\" class=\"dataframe\">\n",
       "  <thead>\n",
       "    <tr style=\"text-align: right;\">\n",
       "      <th></th>\n",
       "      <th>sale</th>\n",
       "    </tr>\n",
       "    <tr>\n",
       "      <th>ProductID</th>\n",
       "      <th></th>\n",
       "    </tr>\n",
       "  </thead>\n",
       "  <tbody>\n",
       "    <tr>\n",
       "      <th>p1072601</th>\n",
       "      <td>24874795</td>\n",
       "    </tr>\n",
       "    <tr>\n",
       "      <th>p1011291</th>\n",
       "      <td>19203973</td>\n",
       "    </tr>\n",
       "    <tr>\n",
       "      <th>p1005891</th>\n",
       "      <td>17797123</td>\n",
       "    </tr>\n",
       "    <tr>\n",
       "      <th>p1178011</th>\n",
       "      <td>15407898</td>\n",
       "    </tr>\n",
       "    <tr>\n",
       "      <th>p1002841</th>\n",
       "      <td>13280561</td>\n",
       "    </tr>\n",
       "  </tbody>\n",
       "</table>\n",
       "</div>"
      ],
      "text/plain": [
       "               sale\n",
       "ProductID          \n",
       "p1072601   24874795\n",
       "p1011291   19203973\n",
       "p1005891   17797123\n",
       "p1178011   15407898\n",
       "p1002841   13280561"
      ]
     },
     "execution_count": 21,
     "metadata": {},
     "output_type": "execute_result"
    }
   ],
   "source": [
    "# 매출액 합계 기준 내림차순으로 정렬하고 top 5를 조회\n",
    "top = total.groupby('ProductID')[['sale']].sum()\n",
    "top.sort_values(by = 'sale', ascending = False, inplace = True)\n",
    "top.head()"
   ]
  },
  {
   "cell_type": "markdown",
   "metadata": {
    "id": "AxRB-sH7lX-f"
   },
   "source": [
    "### 8) 연령대 별 매출액을 조회하기."
   ]
  },
  {
   "cell_type": "code",
   "execution_count": 22,
   "metadata": {
    "ExecuteTime": {
     "end_time": "2022-05-05T16:25:47.513711Z",
     "start_time": "2022-05-05T16:25:47.436970Z"
    },
    "id": "9xsL0f0IlX-g"
   },
   "outputs": [
    {
     "data": {
      "text/html": [
       "<div>\n",
       "<style scoped>\n",
       "    .dataframe tbody tr th:only-of-type {\n",
       "        vertical-align: middle;\n",
       "    }\n",
       "\n",
       "    .dataframe tbody tr th {\n",
       "        vertical-align: top;\n",
       "    }\n",
       "\n",
       "    .dataframe thead th {\n",
       "        text-align: right;\n",
       "    }\n",
       "</style>\n",
       "<table border=\"1\" class=\"dataframe\">\n",
       "  <thead>\n",
       "    <tr style=\"text-align: right;\">\n",
       "      <th></th>\n",
       "      <th>OrderID</th>\n",
       "      <th>Seq</th>\n",
       "      <th>OrderDate</th>\n",
       "      <th>ProductID</th>\n",
       "      <th>Qty</th>\n",
       "      <th>Amt</th>\n",
       "      <th>CustomerID</th>\n",
       "      <th>sale</th>\n",
       "      <th>RegisterDate</th>\n",
       "      <th>Gender</th>\n",
       "      <th>BirthYear</th>\n",
       "      <th>Age</th>\n",
       "      <th>AgeGroup</th>\n",
       "    </tr>\n",
       "  </thead>\n",
       "  <tbody>\n",
       "    <tr>\n",
       "      <th>0</th>\n",
       "      <td>107</td>\n",
       "      <td>2</td>\n",
       "      <td>2016-01-02</td>\n",
       "      <td>p1036481</td>\n",
       "      <td>2</td>\n",
       "      <td>2100</td>\n",
       "      <td>c150417</td>\n",
       "      <td>4200</td>\n",
       "      <td>2010-03-03</td>\n",
       "      <td>F</td>\n",
       "      <td>1974</td>\n",
       "      <td>48</td>\n",
       "      <td>40대</td>\n",
       "    </tr>\n",
       "    <tr>\n",
       "      <th>1</th>\n",
       "      <td>107</td>\n",
       "      <td>1</td>\n",
       "      <td>2016-01-02</td>\n",
       "      <td>p1175481</td>\n",
       "      <td>1</td>\n",
       "      <td>1300</td>\n",
       "      <td>c150417</td>\n",
       "      <td>1300</td>\n",
       "      <td>2010-03-03</td>\n",
       "      <td>F</td>\n",
       "      <td>1974</td>\n",
       "      <td>48</td>\n",
       "      <td>40대</td>\n",
       "    </tr>\n",
       "    <tr>\n",
       "      <th>2</th>\n",
       "      <td>185</td>\n",
       "      <td>1</td>\n",
       "      <td>2016-01-04</td>\n",
       "      <td>p1162631</td>\n",
       "      <td>1</td>\n",
       "      <td>4600</td>\n",
       "      <td>c150417</td>\n",
       "      <td>4600</td>\n",
       "      <td>2010-03-03</td>\n",
       "      <td>F</td>\n",
       "      <td>1974</td>\n",
       "      <td>48</td>\n",
       "      <td>40대</td>\n",
       "    </tr>\n",
       "    <tr>\n",
       "      <th>3</th>\n",
       "      <td>67</td>\n",
       "      <td>2</td>\n",
       "      <td>2016-01-11</td>\n",
       "      <td>p1012751</td>\n",
       "      <td>1</td>\n",
       "      <td>1350</td>\n",
       "      <td>c150417</td>\n",
       "      <td>1350</td>\n",
       "      <td>2010-03-03</td>\n",
       "      <td>F</td>\n",
       "      <td>1974</td>\n",
       "      <td>48</td>\n",
       "      <td>40대</td>\n",
       "    </tr>\n",
       "    <tr>\n",
       "      <th>4</th>\n",
       "      <td>201</td>\n",
       "      <td>3</td>\n",
       "      <td>2016-01-12</td>\n",
       "      <td>p1005891</td>\n",
       "      <td>1</td>\n",
       "      <td>1950</td>\n",
       "      <td>c150417</td>\n",
       "      <td>1950</td>\n",
       "      <td>2010-03-03</td>\n",
       "      <td>F</td>\n",
       "      <td>1974</td>\n",
       "      <td>48</td>\n",
       "      <td>40대</td>\n",
       "    </tr>\n",
       "  </tbody>\n",
       "</table>\n",
       "</div>"
      ],
      "text/plain": [
       "   OrderID  Seq   OrderDate ProductID  Qty   Amt CustomerID  sale  \\\n",
       "0      107    2  2016-01-02  p1036481    2  2100    c150417  4200   \n",
       "1      107    1  2016-01-02  p1175481    1  1300    c150417  1300   \n",
       "2      185    1  2016-01-04  p1162631    1  4600    c150417  4600   \n",
       "3       67    2  2016-01-11  p1012751    1  1350    c150417  1350   \n",
       "4      201    3  2016-01-12  p1005891    1  1950    c150417  1950   \n",
       "\n",
       "  RegisterDate Gender  BirthYear  Age AgeGroup  \n",
       "0   2010-03-03      F       1974   48      40대  \n",
       "1   2010-03-03      F       1974   48      40대  \n",
       "2   2010-03-03      F       1974   48      40대  \n",
       "3   2010-03-03      F       1974   48      40대  \n",
       "4   2010-03-03      F       1974   48      40대  "
      ]
     },
     "execution_count": 22,
     "metadata": {},
     "output_type": "execute_result"
    }
   ],
   "source": [
    "# sales와 customers를  CustomerID 기준으로 inner 조인\n",
    "total = pd.merge(sales, customers, on = 'CustomerID', how = 'inner')\n",
    "total.head()"
   ]
  },
  {
   "cell_type": "code",
   "execution_count": 23,
   "metadata": {
    "ExecuteTime": {
     "end_time": "2022-05-05T16:25:52.215220Z",
     "start_time": "2022-05-05T16:25:52.181293Z"
    },
    "id": "5VJpAGqzlX-h"
   },
   "outputs": [
    {
     "data": {
      "text/html": [
       "<div>\n",
       "<style scoped>\n",
       "    .dataframe tbody tr th:only-of-type {\n",
       "        vertical-align: middle;\n",
       "    }\n",
       "\n",
       "    .dataframe tbody tr th {\n",
       "        vertical-align: top;\n",
       "    }\n",
       "\n",
       "    .dataframe thead th {\n",
       "        text-align: right;\n",
       "    }\n",
       "</style>\n",
       "<table border=\"1\" class=\"dataframe\">\n",
       "  <thead>\n",
       "    <tr style=\"text-align: right;\">\n",
       "      <th></th>\n",
       "      <th>sale</th>\n",
       "    </tr>\n",
       "    <tr>\n",
       "      <th>AgeGroup</th>\n",
       "      <th></th>\n",
       "    </tr>\n",
       "  </thead>\n",
       "  <tbody>\n",
       "    <tr>\n",
       "      <th>30미만</th>\n",
       "      <td>198393</td>\n",
       "    </tr>\n",
       "    <tr>\n",
       "      <th>30대</th>\n",
       "      <td>19445744</td>\n",
       "    </tr>\n",
       "    <tr>\n",
       "      <th>40대</th>\n",
       "      <td>145359466</td>\n",
       "    </tr>\n",
       "    <tr>\n",
       "      <th>50대</th>\n",
       "      <td>129270847</td>\n",
       "    </tr>\n",
       "    <tr>\n",
       "      <th>60대</th>\n",
       "      <td>29372090</td>\n",
       "    </tr>\n",
       "    <tr>\n",
       "      <th>70대이상</th>\n",
       "      <td>14902634</td>\n",
       "    </tr>\n",
       "  </tbody>\n",
       "</table>\n",
       "</div>"
      ],
      "text/plain": [
       "               sale\n",
       "AgeGroup           \n",
       "30미만         198393\n",
       "30대        19445744\n",
       "40대       145359466\n",
       "50대       129270847\n",
       "60대        29372090\n",
       "70대이상      14902634"
      ]
     },
     "execution_count": 23,
     "metadata": {},
     "output_type": "execute_result"
    }
   ],
   "source": [
    "# AgeGroup 별 매출액 합계를 집계\n",
    "total.groupby('AgeGroup', as_index = True)[['sale']].sum()"
   ]
  },
  {
   "cell_type": "markdown",
   "metadata": {
    "id": "giPbG_fcmZ9u"
   },
   "source": [
    "### 9) [심화]연령대 별, 상품 카테고리 매출 비중(%)을 조회하기."
   ]
  },
  {
   "cell_type": "code",
   "execution_count": 24,
   "metadata": {
    "ExecuteTime": {
     "end_time": "2022-05-05T16:25:59.415583Z",
     "start_time": "2022-05-05T16:25:59.324792Z"
    },
    "id": "r2JNeeWamZ9v"
   },
   "outputs": [
    {
     "data": {
      "text/html": [
       "<div>\n",
       "<style scoped>\n",
       "    .dataframe tbody tr th:only-of-type {\n",
       "        vertical-align: middle;\n",
       "    }\n",
       "\n",
       "    .dataframe tbody tr th {\n",
       "        vertical-align: top;\n",
       "    }\n",
       "\n",
       "    .dataframe thead th {\n",
       "        text-align: right;\n",
       "    }\n",
       "</style>\n",
       "<table border=\"1\" class=\"dataframe\">\n",
       "  <thead>\n",
       "    <tr style=\"text-align: right;\">\n",
       "      <th></th>\n",
       "      <th>OrderID</th>\n",
       "      <th>Seq</th>\n",
       "      <th>OrderDate</th>\n",
       "      <th>ProductID</th>\n",
       "      <th>Qty</th>\n",
       "      <th>Amt</th>\n",
       "      <th>CustomerID</th>\n",
       "      <th>sale</th>\n",
       "      <th>ProductName</th>\n",
       "      <th>Category</th>\n",
       "      <th>SubCategory</th>\n",
       "      <th>CategoryOrd</th>\n",
       "      <th>RegisterDate</th>\n",
       "      <th>Gender</th>\n",
       "      <th>BirthYear</th>\n",
       "      <th>Age</th>\n",
       "      <th>AgeGroup</th>\n",
       "    </tr>\n",
       "  </thead>\n",
       "  <tbody>\n",
       "    <tr>\n",
       "      <th>0</th>\n",
       "      <td>107</td>\n",
       "      <td>2</td>\n",
       "      <td>2016-01-02</td>\n",
       "      <td>p1036481</td>\n",
       "      <td>2</td>\n",
       "      <td>2100</td>\n",
       "      <td>c150417</td>\n",
       "      <td>4200</td>\n",
       "      <td>순두부</td>\n",
       "      <td>반찬류</td>\n",
       "      <td>두부</td>\n",
       "      <td>1</td>\n",
       "      <td>2010-03-03</td>\n",
       "      <td>F</td>\n",
       "      <td>1974</td>\n",
       "      <td>48</td>\n",
       "      <td>40대</td>\n",
       "    </tr>\n",
       "    <tr>\n",
       "      <th>1</th>\n",
       "      <td>197</td>\n",
       "      <td>5</td>\n",
       "      <td>2017-01-24</td>\n",
       "      <td>p1036481</td>\n",
       "      <td>1</td>\n",
       "      <td>1050</td>\n",
       "      <td>c150417</td>\n",
       "      <td>1050</td>\n",
       "      <td>순두부</td>\n",
       "      <td>반찬류</td>\n",
       "      <td>두부</td>\n",
       "      <td>1</td>\n",
       "      <td>2010-03-03</td>\n",
       "      <td>F</td>\n",
       "      <td>1974</td>\n",
       "      <td>48</td>\n",
       "      <td>40대</td>\n",
       "    </tr>\n",
       "    <tr>\n",
       "      <th>2</th>\n",
       "      <td>251</td>\n",
       "      <td>4</td>\n",
       "      <td>2016-07-15</td>\n",
       "      <td>p1152861</td>\n",
       "      <td>2</td>\n",
       "      <td>2182</td>\n",
       "      <td>c150417</td>\n",
       "      <td>4364</td>\n",
       "      <td>포토아이스크림</td>\n",
       "      <td>유제품</td>\n",
       "      <td>아이스크림</td>\n",
       "      <td>4</td>\n",
       "      <td>2010-03-03</td>\n",
       "      <td>F</td>\n",
       "      <td>1974</td>\n",
       "      <td>48</td>\n",
       "      <td>40대</td>\n",
       "    </tr>\n",
       "    <tr>\n",
       "      <th>3</th>\n",
       "      <td>71</td>\n",
       "      <td>10</td>\n",
       "      <td>2016-01-22</td>\n",
       "      <td>p1013161</td>\n",
       "      <td>1</td>\n",
       "      <td>2900</td>\n",
       "      <td>c150417</td>\n",
       "      <td>2900</td>\n",
       "      <td>느타리버섯</td>\n",
       "      <td>채소</td>\n",
       "      <td>버섯</td>\n",
       "      <td>5</td>\n",
       "      <td>2010-03-03</td>\n",
       "      <td>F</td>\n",
       "      <td>1974</td>\n",
       "      <td>48</td>\n",
       "      <td>40대</td>\n",
       "    </tr>\n",
       "    <tr>\n",
       "      <th>4</th>\n",
       "      <td>69</td>\n",
       "      <td>7</td>\n",
       "      <td>2016-09-13</td>\n",
       "      <td>p1013161</td>\n",
       "      <td>1</td>\n",
       "      <td>2950</td>\n",
       "      <td>c150417</td>\n",
       "      <td>2950</td>\n",
       "      <td>느타리버섯</td>\n",
       "      <td>채소</td>\n",
       "      <td>버섯</td>\n",
       "      <td>5</td>\n",
       "      <td>2010-03-03</td>\n",
       "      <td>F</td>\n",
       "      <td>1974</td>\n",
       "      <td>48</td>\n",
       "      <td>40대</td>\n",
       "    </tr>\n",
       "  </tbody>\n",
       "</table>\n",
       "</div>"
      ],
      "text/plain": [
       "   OrderID  Seq   OrderDate ProductID  Qty   Amt CustomerID  sale ProductName  \\\n",
       "0      107    2  2016-01-02  p1036481    2  2100    c150417  4200         순두부   \n",
       "1      197    5  2017-01-24  p1036481    1  1050    c150417  1050         순두부   \n",
       "2      251    4  2016-07-15  p1152861    2  2182    c150417  4364     포토아이스크림   \n",
       "3       71   10  2016-01-22  p1013161    1  2900    c150417  2900       느타리버섯   \n",
       "4       69    7  2016-09-13  p1013161    1  2950    c150417  2950       느타리버섯   \n",
       "\n",
       "  Category SubCategory  CategoryOrd RegisterDate Gender  BirthYear  Age  \\\n",
       "0      반찬류          두부            1   2010-03-03      F       1974   48   \n",
       "1      반찬류          두부            1   2010-03-03      F       1974   48   \n",
       "2      유제품       아이스크림            4   2010-03-03      F       1974   48   \n",
       "3       채소          버섯            5   2010-03-03      F       1974   48   \n",
       "4       채소          버섯            5   2010-03-03      F       1974   48   \n",
       "\n",
       "  AgeGroup  \n",
       "0      40대  \n",
       "1      40대  \n",
       "2      40대  \n",
       "3      40대  \n",
       "4      40대  "
      ]
     },
     "execution_count": 24,
     "metadata": {},
     "output_type": "execute_result"
    }
   ],
   "source": [
    "# 세 데이터프레임을 merge \n",
    "tmp = pd.merge(sales, products, on = 'ProductID', how = 'inner')\n",
    "total = pd.merge(tmp, customers, on = 'CustomerID', how = 'inner')\n",
    "total.head()"
   ]
  },
  {
   "cell_type": "code",
   "execution_count": 28,
   "metadata": {
    "ExecuteTime": {
     "end_time": "2022-05-05T16:26:08.924544Z",
     "start_time": "2022-05-05T16:26:08.841746Z"
    },
    "id": "UE-R_bhKmZ9v"
   },
   "outputs": [
    {
     "name": "stdout",
     "output_type": "stream",
     "text": [
      "==================================================\n",
      "30미만\n",
      "==================================================\n",
      "간식 8.8%\n",
      "과일 7.5%\n",
      "반찬류 33.5%\n",
      "유제품 15.5%\n",
      "채소 34.7%\n",
      "==================================================\n",
      "30대\n",
      "==================================================\n",
      "간식 12.2%\n",
      "과일 17.3%\n",
      "반찬류 10.5%\n",
      "유제품 26.6%\n",
      "채소 33.4%\n",
      "==================================================\n",
      "40대\n",
      "==================================================\n",
      "간식 25.0%\n",
      "과일 18.6%\n",
      "반찬류 11.8%\n",
      "유제품 25.4%\n",
      "채소 19.2%\n",
      "==================================================\n",
      "50대\n",
      "==================================================\n",
      "간식 19.9%\n",
      "과일 18.4%\n",
      "반찬류 14.9%\n",
      "유제품 22.7%\n",
      "채소 24.1%\n",
      "==================================================\n",
      "60대\n",
      "==================================================\n",
      "간식 4.2%\n",
      "과일 18.4%\n",
      "반찬류 27.8%\n",
      "유제품 20.4%\n",
      "채소 29.1%\n",
      "==================================================\n",
      "70대이상\n",
      "==================================================\n",
      "간식 17.7%\n",
      "과일 20.4%\n",
      "반찬류 25.8%\n",
      "유제품 10.2%\n",
      "채소 26.0%\n",
      "==================================================\n"
     ]
    }
   ],
   "source": [
    "# for loop를 이용하여, 각 연령대에 대해서 다음의 작업을 반복 수행\n",
    "age_group = total.groupby(['AgeGroup'])\n",
    "print('=' * 50)\n",
    "for age in age_group:\n",
    "    age_categories = age[1].groupby(['Category'], as_index = False)[['sale']].sum()\n",
    "    age_total = age[1]['sale'].sum()\n",
    "    print(f'{age[0]}')\n",
    "    print('=' * 50)\n",
    "    \n",
    "    for i in range(len(age_categories['Category'])):\n",
    "        foot_category = age_categories.loc[i, 'Category']\n",
    "        foot_percent = round((age_categories.loc[i, 'sale'] / age_total) * 100, 1)\n",
    "        print(f'{foot_category} {foot_percent}%')\n",
    "    print('=' * 50)"
   ]
  },
  {
   "cell_type": "code",
   "execution_count": null,
   "metadata": {
    "id": "l6ktyMwIn-V5"
   },
   "outputs": [],
   "source": []
  }
 ],
 "metadata": {
  "colab": {
   "collapsed_sections": [],
   "name": "09 - 총정리실습.ipynb",
   "provenance": [],
   "toc_visible": true
  },
  "kernelspec": {
   "display_name": "Python 3 (ipykernel)",
   "language": "python",
   "name": "python3"
  },
  "language_info": {
   "codemirror_mode": {
    "name": "ipython",
    "version": 3
   },
   "file_extension": ".py",
   "mimetype": "text/x-python",
   "name": "python",
   "nbconvert_exporter": "python",
   "pygments_lexer": "ipython3",
   "version": "3.8.8"
  },
  "toc": {
   "base_numbering": 1,
   "nav_menu": {},
   "number_sections": false,
   "sideBar": true,
   "skip_h1_title": false,
   "title_cell": "Table of Contents",
   "title_sidebar": "Contents",
   "toc_cell": false,
   "toc_position": {},
   "toc_section_display": true,
   "toc_window_display": true
  }
 },
 "nbformat": 4,
 "nbformat_minor": 4
}
